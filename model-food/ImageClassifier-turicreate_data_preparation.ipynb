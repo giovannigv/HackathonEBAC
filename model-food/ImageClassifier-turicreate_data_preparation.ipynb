{
 "cells": [
  {
   "cell_type": "code",
   "execution_count": 1,
   "metadata": {},
   "outputs": [],
   "source": [
    "import turicreate as tc\n",
    "import shutil # copy, move file\n",
    "import os # miscellaneous operation system interfaces\n",
    "import pathlib\n",
    "import pandas as pd\n",
    "from tqdm import tqdm\n",
    "import cv2\n"
   ]
  },
  {
   "cell_type": "code",
   "execution_count": 2,
   "metadata": {},
   "outputs": [
    {
     "name": "stdout",
     "output_type": "stream",
     "text": [
      "2.2.0\n",
      "Num GPUs Available:  1\n",
      "/device:GPU:0\n"
     ]
    }
   ],
   "source": [
    "import tensorflow as tf\n",
    "print(tf.__version__)\n",
    "num_gpus = len(tf.config.experimental.list_physical_devices('GPU'))\n",
    "print(\"Num GPUs Available: \",num_gpus)\n",
    "print(tf.test.gpu_device_name())"
   ]
  },
  {
   "cell_type": "code",
   "execution_count": 3,
   "metadata": {},
   "outputs": [],
   "source": [
    "tc.config.set_num_gpus(num_gpus)"
   ]
  },
  {
   "cell_type": "code",
   "execution_count": 4,
   "metadata": {},
   "outputs": [
    {
     "name": "stdout",
     "output_type": "stream",
     "text": [
      "Requirement already satisfied: pandarallel in /opt/conda/lib/python3.7/site-packages (1.4.8)\n",
      "Requirement already satisfied: dill in /opt/conda/lib/python3.7/site-packages (from pandarallel) (0.3.0)\n"
     ]
    }
   ],
   "source": [
    "!pip install pandarallel\n",
    "from pandarallel import pandarallel\n",
    "pandarallel.initialize(progress_bar=True,verbose=0,nb_workers=4,use_memory_fs=True)\n"
   ]
  },
  {
   "cell_type": "code",
   "execution_count": 5,
   "metadata": {},
   "outputs": [
    {
     "name": "stdout",
     "output_type": "stream",
     "text": [
      "/home/jupyter/FoodDetector/FoodClassification\n",
      "/home/jupyter/FoodDetector\n"
     ]
    }
   ],
   "source": [
    "!pwd\n",
    "%cd ../"
   ]
  },
  {
   "cell_type": "markdown",
   "metadata": {},
   "source": [
    "# Remove dataset folder"
   ]
  },
  {
   "cell_type": "code",
   "execution_count": 6,
   "metadata": {},
   "outputs": [],
   "source": [
    "# Remove dataset folder\n",
    "root_path = os.getcwd()\n",
    "datasets_path = os.path.join(root_path,'FoodClassification/datasets')\n",
    "turicreate_dataset_path = os.path.join(datasets_path,'image_classifier')\n",
    "try:\n",
    "    shutil.rmtree(datasets_path)\n",
    "except OSError as e:\n",
    "    print(\"Error: %s : %s\" % (datasets_path, e.strerror))\n",
    "\n",
    "if not os.path.isdir(datasets_path):\n",
    "    os.mkdir(datasets_path)\n",
    "if not os.path.isdir(turicreate_dataset_path):\n",
    "    os.mkdir(turicreate_dataset_path)"
   ]
  },
  {
   "cell_type": "markdown",
   "metadata": {},
   "source": [
    "# Load data"
   ]
  },
  {
   "cell_type": "code",
   "execution_count": 7,
   "metadata": {},
   "outputs": [
    {
     "name": "stdout",
     "output_type": "stream",
     "text": [
      "/home/jupyter/FoodDetector/FoodClassification/food_labels_paths.csv\n"
     ]
    }
   ],
   "source": [
    "labels_paths_path = os.path.join(root_path,'FoodClassification/food_labels_paths.csv')\n",
    "print(labels_paths_path)"
   ]
  },
  {
   "cell_type": "code",
   "execution_count": 8,
   "metadata": {},
   "outputs": [
    {
     "data": {
      "text/plain": [
       "55457"
      ]
     },
     "execution_count": 8,
     "metadata": {},
     "output_type": "execute_result"
    }
   ],
   "source": [
    "df = pd.read_csv(labels_paths_path)\n",
    "df.shape[0]"
   ]
  },
  {
   "cell_type": "code",
   "execution_count": 9,
   "metadata": {},
   "outputs": [
    {
     "data": {
      "text/plain": [
       "beer         3399\n",
       "cocktail     1973\n",
       "cake         1910\n",
       "bread        1708\n",
       "ice cream    1066\n",
       "             ... \n",
       "peach          99\n",
       "burrito        82\n",
       "cream          79\n",
       "cabbage        76\n",
       "coconut        75\n",
       "Name: Label, Length: 291, dtype: int64"
      ]
     },
     "execution_count": 9,
     "metadata": {},
     "output_type": "execute_result"
    }
   ],
   "source": [
    "df['Label'].value_counts()"
   ]
  },
  {
   "cell_type": "code",
   "execution_count": 10,
   "metadata": {},
   "outputs": [
    {
     "data": {
      "text/html": [
       "<div>\n",
       "<style scoped>\n",
       "    .dataframe tbody tr th:only-of-type {\n",
       "        vertical-align: middle;\n",
       "    }\n",
       "\n",
       "    .dataframe tbody tr th {\n",
       "        vertical-align: top;\n",
       "    }\n",
       "\n",
       "    .dataframe thead th {\n",
       "        text-align: right;\n",
       "    }\n",
       "</style>\n",
       "<table border=\"1\" class=\"dataframe\">\n",
       "  <thead>\n",
       "    <tr style=\"text-align: right;\">\n",
       "      <th></th>\n",
       "      <th>Label</th>\n",
       "      <th>Path</th>\n",
       "    </tr>\n",
       "  </thead>\n",
       "  <tbody>\n",
       "    <tr>\n",
       "      <th>31986</th>\n",
       "      <td>sukiyaki</td>\n",
       "      <td>/home/jupyter/FoodDetector/datasets/UECFOOD256...</td>\n",
       "    </tr>\n",
       "    <tr>\n",
       "      <th>47886</th>\n",
       "      <td>beef in oyster sauce</td>\n",
       "      <td>/home/jupyter/FoodDetector/datasets/UECFOOD256...</td>\n",
       "    </tr>\n",
       "    <tr>\n",
       "      <th>48619</th>\n",
       "      <td>stewed pork leg</td>\n",
       "      <td>/home/jupyter/FoodDetector/datasets/UECFOOD256...</td>\n",
       "    </tr>\n",
       "    <tr>\n",
       "      <th>54494</th>\n",
       "      <td>bean curd family style</td>\n",
       "      <td>/home/jupyter/FoodDetector/datasets/UECFOOD256...</td>\n",
       "    </tr>\n",
       "    <tr>\n",
       "      <th>51254</th>\n",
       "      <td>laulau</td>\n",
       "      <td>/home/jupyter/FoodDetector/datasets/UECFOOD256...</td>\n",
       "    </tr>\n",
       "  </tbody>\n",
       "</table>\n",
       "</div>"
      ],
      "text/plain": [
       "                        Label  \\\n",
       "31986                sukiyaki   \n",
       "47886    beef in oyster sauce   \n",
       "48619         stewed pork leg   \n",
       "54494  bean curd family style   \n",
       "51254                  laulau   \n",
       "\n",
       "                                                    Path  \n",
       "31986  /home/jupyter/FoodDetector/datasets/UECFOOD256...  \n",
       "47886  /home/jupyter/FoodDetector/datasets/UECFOOD256...  \n",
       "48619  /home/jupyter/FoodDetector/datasets/UECFOOD256...  \n",
       "54494  /home/jupyter/FoodDetector/datasets/UECFOOD256...  \n",
       "51254  /home/jupyter/FoodDetector/datasets/UECFOOD256...  "
      ]
     },
     "execution_count": 10,
     "metadata": {},
     "output_type": "execute_result"
    }
   ],
   "source": [
    "df.sample(5)"
   ]
  },
  {
   "cell_type": "code",
   "execution_count": 11,
   "metadata": {},
   "outputs": [
    {
     "data": {
      "text/plain": [
       "hamburger             676\n",
       "banana                589\n",
       "sandwich              498\n",
       "apple                 393\n",
       "french fries          297\n",
       "fried chicken         154\n",
       "spaghetti             151\n",
       "croissant             120\n",
       "sauteed vegetables    120\n",
       "pork bun              114\n",
       "roast chicken         110\n",
       "rice ball             108\n",
       "french bread          105\n",
       "Name: Label, dtype: int64"
      ]
     },
     "execution_count": 11,
     "metadata": {},
     "output_type": "execute_result"
    }
   ],
   "source": [
    "df[\"Label\"] = df[\"Label\"].apply(lambda x: 'sandwich' if x == 'sandwiches' else x)\n",
    "seleted_labels = ['french bread','croissant',\n",
    "                  'sandwiches','hamburger','sandwich',\n",
    "                  'apple','banana','pork bun',\n",
    "                  'fried chicken','french fries','rice ball',\n",
    "                  'roast chicken','sauteed vegetables','spaghetti']\n",
    "# filter_df = df\n",
    "\n",
    "# filter_df = df.groupby(\"Label\").filter(lambda x: len(x) > 150 and len(x) < 2000)\n",
    "filter_df = df[df[\"Label\"].isin(seleted_labels)]\n",
    "filter_df['Label'].value_counts()\n",
    "# filter_df['Label'].nunique()\n",
    "# filter_df = df[df['Label'] == 'rice']\n",
    "\n",
    "# for idx,row in filter_df.sample(5).iterrows():\n",
    "#     annotation_str = row[2]\n",
    "#     annotation_str = annotation_str.replace('[','') \\\n",
    "#                                    .replace(']','') \\\n",
    "#                                    .replace('\\'','') \\\n",
    "#                                    .split(',')\n",
    "#     print(annotation_str)"
   ]
  },
  {
   "cell_type": "code",
   "execution_count": 12,
   "metadata": {},
   "outputs": [],
   "source": [
    "# def str_to_annotations(content):\n",
    "#     content = content.lstrip()\n",
    "#     return [float(x) for x in content.split()]\n",
    "\n",
    "# def convert_to_turicreate_format(row):\n",
    "#     # {'label':'pineapple','type':'rectangle','coordinates':{'x':410,'y':171,'width':138,'height':273}}\n",
    "#     label = row[0]\n",
    "#     path = row[1]\n",
    "#     annotation_strs = row[2]\n",
    "#     annotation_strs = annotation_strs.replace('[','') \\\n",
    "#                                .replace(']','') \\\n",
    "#                                .replace('\\'','') \\\n",
    "#                                .split(',')\n",
    "#     img = cv2.imread(path)\n",
    "#     dh = img.shape[0]\n",
    "#     dw = img.shape[1]\n",
    "#     annotations = []\n",
    "#     for annotation_str in annotation_strs:\n",
    "#         annotation = str_to_annotations(annotation_str)   \n",
    "#         x = round(annotation[0] * dw)\n",
    "#         y = round(annotation[1] * dh)\n",
    "#         w = round(annotation[2] * dw)\n",
    "#         h = round(annotation[3] * dh)\n",
    "#         coordinates = {'x':x,'y':y,'width':w,'height':h}\n",
    "#         annotation = {'label':label,'type':'rectangle','coordinates':coordinates}\n",
    "#         annotations.append(annotation)\n",
    "#     return annotations\n",
    "\n",
    "# filter_df.loc[:,'Annotation'] = filter_df.parallel_apply(convert_to_turicreate_format,axis=1)\n",
    "# filter_df.sample(5)"
   ]
  },
  {
   "cell_type": "code",
   "execution_count": 13,
   "metadata": {},
   "outputs": [],
   "source": [
    "# def copy_to_dataset(row):\n",
    "#     path = row[1]\n",
    "#     new_path = shutil.copy(path,str(turicreate_dataset_path))\n",
    "#     return new_path\n",
    "\n",
    "# filter_df.loc[:,'Path'] = filter_df.parallel_apply(copy_to_dataset,axis=1)\n",
    "# filter_df.sample(5)"
   ]
  },
  {
   "cell_type": "code",
   "execution_count": 14,
   "metadata": {},
   "outputs": [
    {
     "data": {
      "application/vnd.jupyter.widget-view+json": {
       "model_id": "97fafb11ef154b84b20509d656afc653",
       "version_major": 2,
       "version_minor": 0
      },
      "text/plain": [
       "VBox(children=(HBox(children=(IntProgress(value=0, description='0.00%', max=430), Label(value='0 / 430'))), HB…"
      ]
     },
     "metadata": {},
     "output_type": "display_data"
    },
    {
     "name": "stderr",
     "output_type": "stream",
     "text": [
      "/opt/conda/lib/python3.7/site-packages/ipykernel_launcher.py:53: SettingWithCopyWarning: \n",
      "A value is trying to be set on a copy of a slice from a DataFrame.\n",
      "Try using .loc[row_indexer,col_indexer] = value instead\n",
      "\n",
      "See the caveats in the documentation: https://pandas.pydata.org/pandas-docs/stable/user_guide/indexing.html#returning-a-view-versus-a-copy\n"
     ]
    },
    {
     "data": {
      "text/html": [
       "<div>\n",
       "<style scoped>\n",
       "    .dataframe tbody tr th:only-of-type {\n",
       "        vertical-align: middle;\n",
       "    }\n",
       "\n",
       "    .dataframe tbody tr th {\n",
       "        vertical-align: top;\n",
       "    }\n",
       "\n",
       "    .dataframe thead th {\n",
       "        text-align: right;\n",
       "    }\n",
       "</style>\n",
       "<table border=\"1\" class=\"dataframe\">\n",
       "  <thead>\n",
       "    <tr style=\"text-align: right;\">\n",
       "      <th></th>\n",
       "      <th>Label</th>\n",
       "      <th>Path</th>\n",
       "      <th>AugPaths</th>\n",
       "    </tr>\n",
       "  </thead>\n",
       "  <tbody>\n",
       "    <tr>\n",
       "      <th>23052</th>\n",
       "      <td>apple</td>\n",
       "      <td>/home/jupyter/FoodDetector/datasets/images/app...</td>\n",
       "      <td>[/home/jupyter/FoodDetector/FoodClassification...</td>\n",
       "    </tr>\n",
       "    <tr>\n",
       "      <th>35638</th>\n",
       "      <td>roast chicken</td>\n",
       "      <td>/home/jupyter/FoodDetector/datasets/UECFOOD256...</td>\n",
       "      <td>[/home/jupyter/FoodDetector/FoodClassification...</td>\n",
       "    </tr>\n",
       "    <tr>\n",
       "      <th>23351</th>\n",
       "      <td>apple</td>\n",
       "      <td>/home/jupyter/FoodDetector/datasets/images/app...</td>\n",
       "      <td>[/home/jupyter/FoodDetector/FoodClassification...</td>\n",
       "    </tr>\n",
       "    <tr>\n",
       "      <th>32491</th>\n",
       "      <td>fried chicken</td>\n",
       "      <td>/home/jupyter/FoodDetector/datasets/UECFOOD256...</td>\n",
       "      <td>[/home/jupyter/FoodDetector/FoodClassification...</td>\n",
       "    </tr>\n",
       "    <tr>\n",
       "      <th>11652</th>\n",
       "      <td>banana</td>\n",
       "      <td>/home/jupyter/FoodDetector/datasets/images/ban...</td>\n",
       "      <td>[/home/jupyter/FoodDetector/FoodClassification...</td>\n",
       "    </tr>\n",
       "  </tbody>\n",
       "</table>\n",
       "</div>"
      ],
      "text/plain": [
       "               Label                                               Path  \\\n",
       "23052          apple  /home/jupyter/FoodDetector/datasets/images/app...   \n",
       "35638  roast chicken  /home/jupyter/FoodDetector/datasets/UECFOOD256...   \n",
       "23351          apple  /home/jupyter/FoodDetector/datasets/images/app...   \n",
       "32491  fried chicken  /home/jupyter/FoodDetector/datasets/UECFOOD256...   \n",
       "11652         banana  /home/jupyter/FoodDetector/datasets/images/ban...   \n",
       "\n",
       "                                                AugPaths  \n",
       "23052  [/home/jupyter/FoodDetector/FoodClassification...  \n",
       "35638  [/home/jupyter/FoodDetector/FoodClassification...  \n",
       "23351  [/home/jupyter/FoodDetector/FoodClassification...  \n",
       "32491  [/home/jupyter/FoodDetector/FoodClassification...  \n",
       "11652  [/home/jupyter/FoodDetector/FoodClassification...  "
      ]
     },
     "execution_count": 14,
     "metadata": {},
     "output_type": "execute_result"
    }
   ],
   "source": [
    "import imageio\n",
    "from imgaug import augmenters as iaa \n",
    "\n",
    "def image_augmentation(image):\n",
    "    seq = iaa.Sequential([\n",
    "        iaa.Fliplr(0.5), # horizontal flips\n",
    "        iaa.Crop(percent=(0, 0.1)), # random crops\n",
    "        # Small gaussian blur with random sigma between 0 and 0.5.\n",
    "        # But we only blur about 50% of all images.\n",
    "        iaa.Sometimes(\n",
    "            0.5,\n",
    "            iaa.GaussianBlur(sigma=(0, 0.5))\n",
    "        ),\n",
    "        # Strengthen or weaken the contrast in each image.\n",
    "        iaa.LinearContrast((0.75, 1.5)),\n",
    "        # Add gaussian noise.\n",
    "        # For 50% of all images, we sample the noise once per pixel.\n",
    "        # For the other 50% of all images, we sample the noise per pixel AND\n",
    "        # channel. This can change the color (not only brightness) of the\n",
    "        # pixels.\n",
    "        iaa.AdditiveGaussianNoise(loc=0, scale=(0.0, 0.05*255), per_channel=0.5),\n",
    "        # Make some images brighter and some darker.\n",
    "        # In 20% of all cases, we sample the multiplier once per channel,\n",
    "        # which can end up changing the color of the images.\n",
    "        iaa.Multiply((0.8, 1.2), per_channel=0.2),\n",
    "        # Apply affine transformations to each image.\n",
    "        # Scale/zoom them, translate/move them, rotate them and shear them.\n",
    "        iaa.Affine(\n",
    "            scale={\"x\": (0.8, 1.2), \"y\": (0.8, 1.2)},\n",
    "            translate_percent={\"x\": (-0.2, 0.2), \"y\": (-0.2, 0.2)},\n",
    "            rotate=(-25, 25),\n",
    "            shear=(-8, 8)\n",
    "        )\n",
    "    ], random_order=True)\n",
    "    return seq(image=image)\n",
    "    \n",
    "def image_augmentation_and_copy_to_dataset(path):\n",
    "    newImagePaths = []\n",
    "    for i in range(10):\n",
    "        image = cv2.imread(path)\n",
    "        if i > 0:\n",
    "            image = image_augmentation(image)\n",
    "    \n",
    "        name = path.split('/')[-1].replace('.jpg','')\n",
    "        name = name + '_' + str(i) +'.jpg'\n",
    "        new_path = os.path.join(turicreate_dataset_path,name)\n",
    "        if not os.path.isfile(new_path):\n",
    "            cv2.imwrite(new_path,image)    \n",
    "            newImagePaths.append(new_path)\n",
    "        \n",
    "    return newImagePaths\n",
    "\n",
    "filter_df['AugPaths'] = filter_df['Path'].parallel_apply(image_augmentation_and_copy_to_dataset)\n",
    "filter_df.sample(5)"
   ]
  },
  {
   "cell_type": "code",
   "execution_count": 15,
   "metadata": {},
   "outputs": [],
   "source": [
    "filter_df = filter_df.explode('AugPaths')\n",
    "filter_df.sample(5)\n",
    "filter_df.rename(columns={'Path':'path', 'Label':'label'},inplace=True)"
   ]
  },
  {
   "cell_type": "code",
   "execution_count": 16,
   "metadata": {},
   "outputs": [
    {
     "name": "stdout",
     "output_type": "stream",
     "text": [
      "<class 'pandas.core.frame.DataFrame'>\n",
      "Int64Index: 33560 entries, 4491 to 50590\n",
      "Data columns (total 3 columns):\n",
      " #   Column    Non-Null Count  Dtype \n",
      "---  ------    --------------  ----- \n",
      " 0   label     33560 non-null  object\n",
      " 1   path      33560 non-null  object\n",
      " 2   AugPaths  33560 non-null  object\n",
      "dtypes: object(3)\n",
      "memory usage: 1.0+ MB\n",
      "None\n"
     ]
    }
   ],
   "source": [
    "\n",
    "filter_df.dropna(axis=0,inplace=True)\n",
    "print(filter_df.info())\n",
    "filter_df.drop(columns=['path'],inplace=True)\n",
    "filter_df.rename(columns={'AugPaths':'path'},inplace=True)"
   ]
  },
  {
   "cell_type": "code",
   "execution_count": 17,
   "metadata": {},
   "outputs": [
    {
     "data": {
      "text/html": [
       "<pre>Read 23368 images in 5.00204 secs\tspeed: 4671.69 file/sec</pre>"
      ],
      "text/plain": [
       "Read 23368 images in 5.00204 secs\tspeed: 4671.69 file/sec"
      ]
     },
     "metadata": {},
     "output_type": "display_data"
    }
   ],
   "source": [
    "images = tc.image_analysis.load_images(turicreate_dataset_path)"
   ]
  },
  {
   "cell_type": "code",
   "execution_count": 18,
   "metadata": {},
   "outputs": [
    {
     "data": {
      "text/html": [
       "<div style=\"max-height:1000px;max-width:1500px;overflow:auto;\"><table frame=\"box\" rules=\"cols\">\n",
       "    <tr>\n",
       "        <th style=\"padding-left: 1em; padding-right: 1em; text-align: center\">label</th>\n",
       "        <th style=\"padding-left: 1em; padding-right: 1em; text-align: center\">path</th>\n",
       "    </tr>\n",
       "    <tr>\n",
       "        <td style=\"padding-left: 1em; padding-right: 1em; text-align: center; vertical-align: top\">sandwich</td>\n",
       "        <td style=\"padding-left: 1em; padding-right: 1em; text-align: center; vertical-align: top\">/home/jupyter/FoodDetecto<br>r/FoodClassification/ ...</td>\n",
       "    </tr>\n",
       "    <tr>\n",
       "        <td style=\"padding-left: 1em; padding-right: 1em; text-align: center; vertical-align: top\">sandwich</td>\n",
       "        <td style=\"padding-left: 1em; padding-right: 1em; text-align: center; vertical-align: top\">/home/jupyter/FoodDetecto<br>r/FoodClassification/ ...</td>\n",
       "    </tr>\n",
       "    <tr>\n",
       "        <td style=\"padding-left: 1em; padding-right: 1em; text-align: center; vertical-align: top\">sandwich</td>\n",
       "        <td style=\"padding-left: 1em; padding-right: 1em; text-align: center; vertical-align: top\">/home/jupyter/FoodDetecto<br>r/FoodClassification/ ...</td>\n",
       "    </tr>\n",
       "    <tr>\n",
       "        <td style=\"padding-left: 1em; padding-right: 1em; text-align: center; vertical-align: top\">sandwich</td>\n",
       "        <td style=\"padding-left: 1em; padding-right: 1em; text-align: center; vertical-align: top\">/home/jupyter/FoodDetecto<br>r/FoodClassification/ ...</td>\n",
       "    </tr>\n",
       "    <tr>\n",
       "        <td style=\"padding-left: 1em; padding-right: 1em; text-align: center; vertical-align: top\">sandwich</td>\n",
       "        <td style=\"padding-left: 1em; padding-right: 1em; text-align: center; vertical-align: top\">/home/jupyter/FoodDetecto<br>r/FoodClassification/ ...</td>\n",
       "    </tr>\n",
       "</table>\n",
       "[5 rows x 2 columns]<br/>\n",
       "</div>"
      ],
      "text/plain": [
       "Columns:\n",
       "\tlabel\tstr\n",
       "\tpath\tstr\n",
       "\n",
       "Rows: 5\n",
       "\n",
       "Data:\n",
       "+----------+-------------------------------+\n",
       "|  label   |              path             |\n",
       "+----------+-------------------------------+\n",
       "| sandwich | /home/jupyter/FoodDetector... |\n",
       "| sandwich | /home/jupyter/FoodDetector... |\n",
       "| sandwich | /home/jupyter/FoodDetector... |\n",
       "| sandwich | /home/jupyter/FoodDetector... |\n",
       "| sandwich | /home/jupyter/FoodDetector... |\n",
       "+----------+-------------------------------+\n",
       "[5 rows x 2 columns]"
      ]
     },
     "execution_count": 18,
     "metadata": {},
     "output_type": "execute_result"
    }
   ],
   "source": [
    "annotations = tc.SFrame(filter_df)\n",
    "annotations.head(5)\n",
    "# annotations.explore()"
   ]
  },
  {
   "cell_type": "code",
   "execution_count": 19,
   "metadata": {},
   "outputs": [
    {
     "data": {
      "text/html": [
       "<div style=\"max-height:1000px;max-width:1500px;overflow:auto;\"><table frame=\"box\" rules=\"cols\">\n",
       "    <tr>\n",
       "        <th style=\"padding-left: 1em; padding-right: 1em; text-align: center\">path</th>\n",
       "        <th style=\"padding-left: 1em; padding-right: 1em; text-align: center\">image</th>\n",
       "        <th style=\"padding-left: 1em; padding-right: 1em; text-align: center\">label</th>\n",
       "    </tr>\n",
       "    <tr>\n",
       "        <td style=\"padding-left: 1em; padding-right: 1em; text-align: center; vertical-align: top\">/home/jupyter/FoodDetecto<br>r/FoodClassification/ ...</td>\n",
       "        <td style=\"padding-left: 1em; padding-right: 1em; text-align: center; vertical-align: top\">Height: 680 Width: 1024</td>\n",
       "        <td style=\"padding-left: 1em; padding-right: 1em; text-align: center; vertical-align: top\">sandwich</td>\n",
       "    </tr>\n",
       "    <tr>\n",
       "        <td style=\"padding-left: 1em; padding-right: 1em; text-align: center; vertical-align: top\">/home/jupyter/FoodDetecto<br>r/FoodClassification/ ...</td>\n",
       "        <td style=\"padding-left: 1em; padding-right: 1em; text-align: center; vertical-align: top\">Height: 680 Width: 1024</td>\n",
       "        <td style=\"padding-left: 1em; padding-right: 1em; text-align: center; vertical-align: top\">sandwich</td>\n",
       "    </tr>\n",
       "    <tr>\n",
       "        <td style=\"padding-left: 1em; padding-right: 1em; text-align: center; vertical-align: top\">/home/jupyter/FoodDetecto<br>r/FoodClassification/ ...</td>\n",
       "        <td style=\"padding-left: 1em; padding-right: 1em; text-align: center; vertical-align: top\">Height: 680 Width: 1024</td>\n",
       "        <td style=\"padding-left: 1em; padding-right: 1em; text-align: center; vertical-align: top\">sandwich</td>\n",
       "    </tr>\n",
       "    <tr>\n",
       "        <td style=\"padding-left: 1em; padding-right: 1em; text-align: center; vertical-align: top\">/home/jupyter/FoodDetecto<br>r/FoodClassification/ ...</td>\n",
       "        <td style=\"padding-left: 1em; padding-right: 1em; text-align: center; vertical-align: top\">Height: 680 Width: 1024</td>\n",
       "        <td style=\"padding-left: 1em; padding-right: 1em; text-align: center; vertical-align: top\">sandwich</td>\n",
       "    </tr>\n",
       "    <tr>\n",
       "        <td style=\"padding-left: 1em; padding-right: 1em; text-align: center; vertical-align: top\">/home/jupyter/FoodDetecto<br>r/FoodClassification/ ...</td>\n",
       "        <td style=\"padding-left: 1em; padding-right: 1em; text-align: center; vertical-align: top\">Height: 680 Width: 1024</td>\n",
       "        <td style=\"padding-left: 1em; padding-right: 1em; text-align: center; vertical-align: top\">sandwich</td>\n",
       "    </tr>\n",
       "</table>\n",
       "[5 rows x 3 columns]<br/>\n",
       "</div>"
      ],
      "text/plain": [
       "Columns:\n",
       "\tpath\tstr\n",
       "\timage\tImage\n",
       "\tlabel\tstr\n",
       "\n",
       "Rows: 5\n",
       "\n",
       "Data:\n",
       "+-------------------------------+-------------------------+----------+\n",
       "|              path             |          image          |  label   |\n",
       "+-------------------------------+-------------------------+----------+\n",
       "| /home/jupyter/FoodDetector... | Height: 680 Width: 1024 | sandwich |\n",
       "| /home/jupyter/FoodDetector... | Height: 680 Width: 1024 | sandwich |\n",
       "| /home/jupyter/FoodDetector... | Height: 680 Width: 1024 | sandwich |\n",
       "| /home/jupyter/FoodDetector... | Height: 680 Width: 1024 | sandwich |\n",
       "| /home/jupyter/FoodDetector... | Height: 680 Width: 1024 | sandwich |\n",
       "+-------------------------------+-------------------------+----------+\n",
       "[5 rows x 3 columns]"
      ]
     },
     "execution_count": 19,
     "metadata": {},
     "output_type": "execute_result"
    }
   ],
   "source": [
    "joined_sframe = images.join(annotations)\n",
    "joined_sframe.head(5)"
   ]
  },
  {
   "cell_type": "code",
   "execution_count": 20,
   "metadata": {},
   "outputs": [],
   "source": [
    "sample = joined_sframe.sample(0.01,seed=5)\n",
    "# sample.explore()"
   ]
  },
  {
   "cell_type": "code",
   "execution_count": 21,
   "metadata": {},
   "outputs": [],
   "source": [
    "joined_sframe.save(os.path.join(turicreate_dataset_path,'image_classifier.sframe'))"
   ]
  },
  {
   "cell_type": "code",
   "execution_count": null,
   "metadata": {},
   "outputs": [],
   "source": []
  },
  {
   "cell_type": "code",
   "execution_count": null,
   "metadata": {},
   "outputs": [],
   "source": []
  }
 ],
 "metadata": {
  "environment": {
   "name": "tf2-gpu.2-1.m46",
   "type": "gcloud",
   "uri": "gcr.io/deeplearning-platform-release/tf2-gpu.2-1:m46"
  },
  "kernelspec": {
   "display_name": "Python 3",
   "language": "python",
   "name": "python3"
  },
  "language_info": {
   "codemirror_mode": {
    "name": "ipython",
    "version": 3
   },
   "file_extension": ".py",
   "mimetype": "text/x-python",
   "name": "python",
   "nbconvert_exporter": "python",
   "pygments_lexer": "ipython3",
   "version": "3.7.6"
  }
 },
 "nbformat": 4,
 "nbformat_minor": 4
}

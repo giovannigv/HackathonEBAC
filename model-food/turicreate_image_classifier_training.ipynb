{
 "cells": [
  {
   "cell_type": "code",
   "execution_count": 1,
   "metadata": {},
   "outputs": [
    {
     "name": "stdout",
     "output_type": "stream",
     "text": [
      "Requirement already satisfied: pandarallel in /opt/conda/lib/python3.7/site-packages (1.4.8)\n",
      "Requirement already satisfied: dill in /opt/conda/lib/python3.7/site-packages (from pandarallel) (0.3.0)\n"
     ]
    }
   ],
   "source": [
    "# Install libraries\n",
    "!pip install pandarallel\n"
   ]
  },
  {
   "cell_type": "code",
   "execution_count": 2,
   "metadata": {},
   "outputs": [
    {
     "name": "stdout",
     "output_type": "stream",
     "text": [
      "2.2.0\n",
      "Num GPUs Available:  1\n",
      "/device:GPU:0\n"
     ]
    }
   ],
   "source": [
    "import tensorflow as tf\n",
    "from tensorflow.keras.mixed_precision import experimental as mixed_precision\n",
    "\n",
    "print(tf.__version__)\n",
    "num_gpus = len(tf.config.experimental.list_physical_devices('GPU'))\n",
    "print(\"Num GPUs Available: \", num_gpus)\n",
    "print(tf.test.gpu_device_name())"
   ]
  },
  {
   "cell_type": "code",
   "execution_count": 3,
   "metadata": {},
   "outputs": [
    {
     "name": "stdout",
     "output_type": "stream",
     "text": [
      "TuriCreate currently only supports using one GPU. Setting 'num_gpus' to 1.\n"
     ]
    }
   ],
   "source": [
    "# Import libraries\n",
    "import turicreate as tc\n",
    "import shutil # copy, move file\n",
    "import os # miscellaneous operation system interfaces\n",
    "import pathlib\n",
    "import pandas as pd\n",
    "from tqdm import tqdm\n",
    "import cv2\n",
    "from pandarallel import pandarallel\n",
    "pandarallel.initialize(progress_bar=True,verbose=0)\n",
    "tc.config.set_num_gpus(-1)"
   ]
  },
  {
   "cell_type": "code",
   "execution_count": 4,
   "metadata": {},
   "outputs": [
    {
     "name": "stdout",
     "output_type": "stream",
     "text": [
      "/home/jupyter/FoodDetector/FoodClassification\n",
      "/home/jupyter/FoodDetector\n"
     ]
    }
   ],
   "source": [
    "!pwd\n",
    "%cd ../"
   ]
  },
  {
   "cell_type": "code",
   "execution_count": 5,
   "metadata": {},
   "outputs": [],
   "source": [
    "# Initial paths\n",
    "root_path = os.getcwd()\n",
    "datasets_path = os.path.join(root_path,'FoodClassification/datasets')\n",
    "turicreate_dataset_path = os.path.join(root_path,'FoodClassification/datasets/image_classifier')\n",
    "saved_model_path = os.path.join(root_path,'FoodClassification/saved_model')\n",
    "sframe_turicreate_dataset_path = os.path.join(turicreate_dataset_path,'image_classifier.sframe')\n"
   ]
  },
  {
   "cell_type": "code",
   "execution_count": 6,
   "metadata": {},
   "outputs": [
    {
     "data": {
      "text/html": [
       "<div style=\"max-height:1000px;max-width:1500px;overflow:auto;\"><table frame=\"box\" rules=\"cols\">\n",
       "    <tr>\n",
       "        <th style=\"padding-left: 1em; padding-right: 1em; text-align: center\">path</th>\n",
       "        <th style=\"padding-left: 1em; padding-right: 1em; text-align: center\">image</th>\n",
       "        <th style=\"padding-left: 1em; padding-right: 1em; text-align: center\">label</th>\n",
       "    </tr>\n",
       "    <tr>\n",
       "        <td style=\"padding-left: 1em; padding-right: 1em; text-align: center; vertical-align: top\">/home/jupyter/FoodDetecto<br>r/FoodClassification/ ...</td>\n",
       "        <td style=\"padding-left: 1em; padding-right: 1em; text-align: center; vertical-align: top\">Height: 680 Width: 1024</td>\n",
       "        <td style=\"padding-left: 1em; padding-right: 1em; text-align: center; vertical-align: top\">sandwich</td>\n",
       "    </tr>\n",
       "    <tr>\n",
       "        <td style=\"padding-left: 1em; padding-right: 1em; text-align: center; vertical-align: top\">/home/jupyter/FoodDetecto<br>r/FoodClassification/ ...</td>\n",
       "        <td style=\"padding-left: 1em; padding-right: 1em; text-align: center; vertical-align: top\">Height: 680 Width: 1024</td>\n",
       "        <td style=\"padding-left: 1em; padding-right: 1em; text-align: center; vertical-align: top\">sandwich</td>\n",
       "    </tr>\n",
       "    <tr>\n",
       "        <td style=\"padding-left: 1em; padding-right: 1em; text-align: center; vertical-align: top\">/home/jupyter/FoodDetecto<br>r/FoodClassification/ ...</td>\n",
       "        <td style=\"padding-left: 1em; padding-right: 1em; text-align: center; vertical-align: top\">Height: 680 Width: 1024</td>\n",
       "        <td style=\"padding-left: 1em; padding-right: 1em; text-align: center; vertical-align: top\">sandwich</td>\n",
       "    </tr>\n",
       "    <tr>\n",
       "        <td style=\"padding-left: 1em; padding-right: 1em; text-align: center; vertical-align: top\">/home/jupyter/FoodDetecto<br>r/FoodClassification/ ...</td>\n",
       "        <td style=\"padding-left: 1em; padding-right: 1em; text-align: center; vertical-align: top\">Height: 680 Width: 1024</td>\n",
       "        <td style=\"padding-left: 1em; padding-right: 1em; text-align: center; vertical-align: top\">sandwich</td>\n",
       "    </tr>\n",
       "    <tr>\n",
       "        <td style=\"padding-left: 1em; padding-right: 1em; text-align: center; vertical-align: top\">/home/jupyter/FoodDetecto<br>r/FoodClassification/ ...</td>\n",
       "        <td style=\"padding-left: 1em; padding-right: 1em; text-align: center; vertical-align: top\">Height: 680 Width: 1024</td>\n",
       "        <td style=\"padding-left: 1em; padding-right: 1em; text-align: center; vertical-align: top\">sandwich</td>\n",
       "    </tr>\n",
       "</table>\n",
       "[5 rows x 3 columns]<br/>\n",
       "</div>"
      ],
      "text/plain": [
       "Columns:\n",
       "\tpath\tstr\n",
       "\timage\tImage\n",
       "\tlabel\tstr\n",
       "\n",
       "Rows: 5\n",
       "\n",
       "Data:\n",
       "+-------------------------------+-------------------------+----------+\n",
       "|              path             |          image          |  label   |\n",
       "+-------------------------------+-------------------------+----------+\n",
       "| /home/jupyter/FoodDetector... | Height: 680 Width: 1024 | sandwich |\n",
       "| /home/jupyter/FoodDetector... | Height: 680 Width: 1024 | sandwich |\n",
       "| /home/jupyter/FoodDetector... | Height: 680 Width: 1024 | sandwich |\n",
       "| /home/jupyter/FoodDetector... | Height: 680 Width: 1024 | sandwich |\n",
       "| /home/jupyter/FoodDetector... | Height: 680 Width: 1024 | sandwich |\n",
       "+-------------------------------+-------------------------+----------+\n",
       "[5 rows x 3 columns]"
      ]
     },
     "execution_count": 6,
     "metadata": {},
     "output_type": "execute_result"
    }
   ],
   "source": [
    "dataset = tc.SFrame(sframe_turicreate_dataset_path)\n",
    "dataset.head(5)"
   ]
  },
  {
   "cell_type": "code",
   "execution_count": 7,
   "metadata": {},
   "outputs": [],
   "source": [
    "train_data, test_data = dataset.random_split(0.8,seed=100)"
   ]
  },
  {
   "cell_type": "code",
   "execution_count": 8,
   "metadata": {},
   "outputs": [],
   "source": [
    "# samples_data = test_data.sample(0.01)\n",
    "# samples_data.explore()"
   ]
  },
  {
   "cell_type": "code",
   "execution_count": 9,
   "metadata": {},
   "outputs": [
    {
     "name": "stdout",
     "output_type": "stream",
     "text": [
      "WARNING:tensorflow:From /opt/conda/lib/python3.7/site-packages/tensorflow/python/compat/v2_compat.py:96: disable_resource_variables (from tensorflow.python.ops.variable_scope) is deprecated and will be removed in a future version.\n",
      "Instructions for updating:\n",
      "non-resource variables are not supported in the long term\n",
      "Performing feature extraction on resized images...\n",
      "Completed    64/26992\n",
      "Completed   128/26992\n",
      "Completed   192/26992\n",
      "Completed   256/26992\n",
      "Completed   320/26992\n",
      "Completed   384/26992\n",
      "Completed   448/26992\n",
      "Completed   512/26992\n",
      "Completed   576/26992\n",
      "Completed   640/26992\n",
      "Completed   704/26992\n",
      "Completed   768/26992\n",
      "Completed   832/26992\n",
      "Completed   896/26992\n",
      "Completed   960/26992\n",
      "Completed  1024/26992\n",
      "Completed  1088/26992\n",
      "Completed  1152/26992\n",
      "Completed  1216/26992\n",
      "Completed  1280/26992\n",
      "Completed  1344/26992\n",
      "Completed  1408/26992\n",
      "Completed  1472/26992\n",
      "Completed  1536/26992\n",
      "Completed  1600/26992\n",
      "Completed  1664/26992\n",
      "Completed  1728/26992\n",
      "Completed  1792/26992\n",
      "Completed  1856/26992\n",
      "Completed  1920/26992\n",
      "Completed  1984/26992\n",
      "Completed  2048/26992\n",
      "Completed  2112/26992\n",
      "Completed  2176/26992\n",
      "Completed  2240/26992\n",
      "Completed  2304/26992\n",
      "Completed  2368/26992\n",
      "Completed  2432/26992\n",
      "Completed  2496/26992\n",
      "Completed  2560/26992\n",
      "Completed  2624/26992\n",
      "Completed  2688/26992\n",
      "Completed  2752/26992\n",
      "Completed  2816/26992\n",
      "Completed  2880/26992\n",
      "Completed  2944/26992\n",
      "Completed  3008/26992\n",
      "Completed  3072/26992\n",
      "Completed  3136/26992\n",
      "Completed  3200/26992\n",
      "Completed  3264/26992\n",
      "Completed  3328/26992\n",
      "Completed  3392/26992\n",
      "Completed  3456/26992\n",
      "Completed  3520/26992\n",
      "Completed  3584/26992\n",
      "Completed  3648/26992\n",
      "Completed  3712/26992\n",
      "Completed  3776/26992\n",
      "Completed  3840/26992\n",
      "Completed  3904/26992\n",
      "Completed  3968/26992\n",
      "Completed  4032/26992\n",
      "Completed  4096/26992\n",
      "Completed  4160/26992\n",
      "Completed  4224/26992\n",
      "Completed  4288/26992\n",
      "Completed  4352/26992\n",
      "Completed  4416/26992\n",
      "Completed  4480/26992\n",
      "Completed  4544/26992\n",
      "Completed  4608/26992\n",
      "Completed  4672/26992\n",
      "Completed  4736/26992\n",
      "Completed  4800/26992\n",
      "Completed  4864/26992\n",
      "Completed  4928/26992\n",
      "Completed  4992/26992\n",
      "Completed  5056/26992\n",
      "Completed  5120/26992\n",
      "Completed  5184/26992\n",
      "Completed  5248/26992\n",
      "Completed  5312/26992\n",
      "Completed  5376/26992\n",
      "Completed  5440/26992\n",
      "Completed  5504/26992\n",
      "Completed  5568/26992\n",
      "Completed  5632/26992\n",
      "Completed  5696/26992\n",
      "Completed  5760/26992\n",
      "Completed  5824/26992\n",
      "Completed  5888/26992\n",
      "Completed  5952/26992\n",
      "Completed  6016/26992\n",
      "Completed  6080/26992\n",
      "Completed  6144/26992\n",
      "Completed  6208/26992\n",
      "Completed  6272/26992\n",
      "Completed  6336/26992\n",
      "Completed  6400/26992\n",
      "Completed  6464/26992\n",
      "Completed  6528/26992\n",
      "Completed  6592/26992\n",
      "Completed  6656/26992\n",
      "Completed  6720/26992\n",
      "Completed  6784/26992\n",
      "Completed  6848/26992\n",
      "Completed  6912/26992\n",
      "Completed  6976/26992\n",
      "Completed  7040/26992\n",
      "Completed  7104/26992\n",
      "Completed  7168/26992\n",
      "Completed  7232/26992\n",
      "Completed  7296/26992\n",
      "Completed  7360/26992\n",
      "Completed  7424/26992\n",
      "Completed  7488/26992\n",
      "Completed  7552/26992\n",
      "Completed  7616/26992\n",
      "Completed  7680/26992\n",
      "Completed  7744/26992\n",
      "Completed  7808/26992\n",
      "Completed  7872/26992\n",
      "Completed  7936/26992\n",
      "Completed  8000/26992\n",
      "Completed  8064/26992\n",
      "Completed  8128/26992\n",
      "Completed  8192/26992\n",
      "Completed  8256/26992\n",
      "Completed  8320/26992\n",
      "Completed  8384/26992\n",
      "Completed  8448/26992\n",
      "Completed  8512/26992\n",
      "Completed  8576/26992\n",
      "Completed  8640/26992\n",
      "Completed  8704/26992\n",
      "Completed  8768/26992\n",
      "Completed  8832/26992\n",
      "Completed  8896/26992\n",
      "Completed  8960/26992\n",
      "Completed  9024/26992\n",
      "Completed  9088/26992\n",
      "Completed  9152/26992\n",
      "Completed  9216/26992\n",
      "Completed  9280/26992\n",
      "Completed  9344/26992\n",
      "Completed  9408/26992\n",
      "Completed  9472/26992\n",
      "Completed  9536/26992\n",
      "Completed  9600/26992\n",
      "Completed  9664/26992\n",
      "Completed  9728/26992\n",
      "Completed  9792/26992\n",
      "Completed  9856/26992\n",
      "Completed  9920/26992\n",
      "Completed  9984/26992\n",
      "Completed 10048/26992\n",
      "Completed 10112/26992\n",
      "Completed 10176/26992\n",
      "Completed 10240/26992\n",
      "Completed 10304/26992\n",
      "Completed 10368/26992\n",
      "Completed 10432/26992\n",
      "Completed 10496/26992\n",
      "Completed 10560/26992\n",
      "Completed 10624/26992\n",
      "Completed 10688/26992\n",
      "Completed 10752/26992\n",
      "Completed 10816/26992\n",
      "Completed 10880/26992\n",
      "Completed 10944/26992\n",
      "Completed 11008/26992\n",
      "Completed 11072/26992\n",
      "Completed 11136/26992\n",
      "Completed 11200/26992\n",
      "Completed 11264/26992\n",
      "Completed 11328/26992\n",
      "Completed 11392/26992\n",
      "Completed 11456/26992\n",
      "Completed 11520/26992\n",
      "Completed 11584/26992\n",
      "Completed 11648/26992\n",
      "Completed 11712/26992\n",
      "Completed 11776/26992\n",
      "Completed 11840/26992\n",
      "Completed 11904/26992\n",
      "Completed 11968/26992\n",
      "Completed 12032/26992\n",
      "Completed 12096/26992\n",
      "Completed 12160/26992\n",
      "Completed 12224/26992\n",
      "Completed 12288/26992\n",
      "Completed 12352/26992\n",
      "Completed 12416/26992\n",
      "Completed 12480/26992\n",
      "Completed 12544/26992\n",
      "Completed 12608/26992\n",
      "Completed 12672/26992\n",
      "Completed 12736/26992\n",
      "Completed 12800/26992\n",
      "Completed 12864/26992\n",
      "Completed 12928/26992\n",
      "Completed 12992/26992\n",
      "Completed 13056/26992\n",
      "Completed 13120/26992\n",
      "Completed 13184/26992\n",
      "Completed 13248/26992\n",
      "Completed 13312/26992\n",
      "Completed 13376/26992\n",
      "Completed 13440/26992\n",
      "Completed 13504/26992\n",
      "Completed 13568/26992\n",
      "Completed 13632/26992\n",
      "Completed 13696/26992\n",
      "Completed 13760/26992\n",
      "Completed 13824/26992\n",
      "Completed 13888/26992\n",
      "Completed 13952/26992\n",
      "Completed 14016/26992\n",
      "Completed 14080/26992\n",
      "Completed 14144/26992\n",
      "Completed 14208/26992\n",
      "Completed 14272/26992\n",
      "Completed 14336/26992\n",
      "Completed 14400/26992\n",
      "Completed 14464/26992\n",
      "Completed 14528/26992\n",
      "Completed 14592/26992\n",
      "Completed 14656/26992\n",
      "Completed 14720/26992\n",
      "Completed 14784/26992\n",
      "Completed 14848/26992\n",
      "Completed 14912/26992\n",
      "Completed 14976/26992\n",
      "Completed 15040/26992\n",
      "Completed 15104/26992\n",
      "Completed 15168/26992\n",
      "Completed 15232/26992\n",
      "Completed 15296/26992\n",
      "Completed 15360/26992\n",
      "Completed 15424/26992\n",
      "Completed 15488/26992\n",
      "Completed 15552/26992\n",
      "Completed 15616/26992\n",
      "Completed 15680/26992\n",
      "Completed 15744/26992\n",
      "Completed 15808/26992\n",
      "Completed 15872/26992\n",
      "Completed 15936/26992\n",
      "Completed 16000/26992\n",
      "Completed 16064/26992\n",
      "Completed 16128/26992\n",
      "Completed 16192/26992\n",
      "Completed 16256/26992\n",
      "Completed 16320/26992\n",
      "Completed 16384/26992\n",
      "Completed 16448/26992\n",
      "Completed 16512/26992\n",
      "Completed 16576/26992\n",
      "Completed 16640/26992\n",
      "Completed 16704/26992\n",
      "Completed 16768/26992\n",
      "Completed 16832/26992\n",
      "Completed 16896/26992\n",
      "Completed 16960/26992\n",
      "Completed 17024/26992\n",
      "Completed 17088/26992\n",
      "Completed 17152/26992\n",
      "Completed 17216/26992\n",
      "Completed 17280/26992\n",
      "Completed 17344/26992\n",
      "Completed 17408/26992\n",
      "Completed 17472/26992\n",
      "Completed 17536/26992\n",
      "Completed 17600/26992\n",
      "Completed 17664/26992\n",
      "Completed 17728/26992\n",
      "Completed 17792/26992\n",
      "Completed 17856/26992\n",
      "Completed 17920/26992\n",
      "Completed 17984/26992\n",
      "Completed 18048/26992\n",
      "Completed 18112/26992\n",
      "Completed 18176/26992\n",
      "Completed 18240/26992\n",
      "Completed 18304/26992\n",
      "Completed 18368/26992\n",
      "Completed 18432/26992\n",
      "Completed 18496/26992\n",
      "Completed 18560/26992\n",
      "Completed 18624/26992\n",
      "Completed 18688/26992\n",
      "Completed 18752/26992\n",
      "Completed 18816/26992\n",
      "Completed 18880/26992\n",
      "Completed 18944/26992\n",
      "Completed 19008/26992\n",
      "Completed 19072/26992\n",
      "Completed 19136/26992\n",
      "Completed 19200/26992\n",
      "Completed 19264/26992\n",
      "Completed 19328/26992\n",
      "Completed 19392/26992\n",
      "Completed 19456/26992\n",
      "Completed 19520/26992\n",
      "Completed 19584/26992\n",
      "Completed 19648/26992\n",
      "Completed 19712/26992\n",
      "Completed 19776/26992\n",
      "Completed 19840/26992\n",
      "Completed 19904/26992\n",
      "Completed 19968/26992\n",
      "Completed 20032/26992\n",
      "Completed 20096/26992\n",
      "Completed 20160/26992\n",
      "Completed 20224/26992\n",
      "Completed 20288/26992\n",
      "Completed 20352/26992\n",
      "Completed 20416/26992\n",
      "Completed 20480/26992\n",
      "Completed 20544/26992\n",
      "Completed 20608/26992\n",
      "Completed 20672/26992\n",
      "Completed 20736/26992\n",
      "Completed 20800/26992\n",
      "Completed 20864/26992\n",
      "Completed 20928/26992\n",
      "Completed 20992/26992\n",
      "Completed 21056/26992\n",
      "Completed 21120/26992\n",
      "Completed 21184/26992\n",
      "Completed 21248/26992\n",
      "Completed 21312/26992\n",
      "Completed 21376/26992\n",
      "Completed 21440/26992\n",
      "Completed 21504/26992\n",
      "Completed 21568/26992\n",
      "Completed 21632/26992\n",
      "Completed 21696/26992\n",
      "Completed 21760/26992\n",
      "Completed 21824/26992\n",
      "Completed 21888/26992\n",
      "Completed 21952/26992\n",
      "Completed 22016/26992\n",
      "Completed 22080/26992\n",
      "Completed 22144/26992\n",
      "Completed 22208/26992\n",
      "Completed 22272/26992\n",
      "Completed 22336/26992\n",
      "Completed 22400/26992\n",
      "Completed 22464/26992\n",
      "Completed 22528/26992\n",
      "Completed 22592/26992\n",
      "Completed 22656/26992\n",
      "Completed 22720/26992\n",
      "Completed 22784/26992\n",
      "Completed 22848/26992\n",
      "Completed 22912/26992\n",
      "Completed 22976/26992\n",
      "Completed 23040/26992\n",
      "Completed 23104/26992\n",
      "Completed 23168/26992\n",
      "Completed 23232/26992\n",
      "Completed 23296/26992\n",
      "Completed 23360/26992\n",
      "Completed 23424/26992\n",
      "Completed 23488/26992\n",
      "Completed 23552/26992\n",
      "Completed 23616/26992\n",
      "Completed 23680/26992\n",
      "Completed 23744/26992\n",
      "Completed 23808/26992\n",
      "Completed 23872/26992\n",
      "Completed 23936/26992\n",
      "Completed 24000/26992\n",
      "Completed 24064/26992\n",
      "Completed 24128/26992\n",
      "Completed 24192/26992\n",
      "Completed 24256/26992\n",
      "Completed 24320/26992\n",
      "Completed 24384/26992\n",
      "Completed 24448/26992\n",
      "Completed 24512/26992\n",
      "Completed 24576/26992\n",
      "Completed 24640/26992\n",
      "Completed 24704/26992\n",
      "Completed 24768/26992\n",
      "Completed 24832/26992\n",
      "Completed 24896/26992\n",
      "Completed 24960/26992\n",
      "Completed 25024/26992\n",
      "Completed 25088/26992\n",
      "Completed 25152/26992\n",
      "Completed 25216/26992\n",
      "Completed 25280/26992\n",
      "Completed 25344/26992\n",
      "Completed 25408/26992\n",
      "Completed 25472/26992\n",
      "Completed 25536/26992\n",
      "Completed 25600/26992\n",
      "Completed 25664/26992\n",
      "Completed 25728/26992\n",
      "Completed 25792/26992\n",
      "Completed 25856/26992\n",
      "Completed 25920/26992\n",
      "Completed 25984/26992\n",
      "Completed 26048/26992\n",
      "Completed 26112/26992\n",
      "Completed 26176/26992\n",
      "Completed 26240/26992\n",
      "Completed 26304/26992\n",
      "Completed 26368/26992\n",
      "Completed 26432/26992\n",
      "Completed 26496/26992\n",
      "Completed 26560/26992\n",
      "Completed 26624/26992\n",
      "Completed 26688/26992\n",
      "Completed 26752/26992\n",
      "Completed 26816/26992\n",
      "Completed 26880/26992\n",
      "Completed 26944/26992\n",
      "Completed 26992/26992\n",
      "Performing feature extraction on resized images...\n",
      "Completed   64/6568\n",
      "Completed  128/6568\n",
      "Completed  192/6568\n",
      "Completed  256/6568\n",
      "Completed  320/6568\n",
      "Completed  384/6568\n",
      "Completed  448/6568\n",
      "Completed  512/6568\n",
      "Completed  576/6568\n",
      "Completed  640/6568\n",
      "Completed  704/6568\n",
      "Completed  768/6568\n",
      "Completed  832/6568\n",
      "Completed  896/6568\n",
      "Completed  960/6568\n",
      "Completed 1024/6568\n",
      "Completed 1088/6568\n",
      "Completed 1152/6568\n",
      "Completed 1216/6568\n",
      "Completed 1280/6568\n",
      "Completed 1344/6568\n",
      "Completed 1408/6568\n",
      "Completed 1472/6568\n",
      "Completed 1536/6568\n",
      "Completed 1600/6568\n",
      "Completed 1664/6568\n",
      "Completed 1728/6568\n",
      "Completed 1792/6568\n",
      "Completed 1856/6568\n",
      "Completed 1920/6568\n",
      "Completed 1984/6568\n",
      "Completed 2048/6568\n",
      "Completed 2112/6568\n",
      "Completed 2176/6568\n",
      "Completed 2240/6568\n",
      "Completed 2304/6568\n",
      "Completed 2368/6568\n",
      "Completed 2432/6568\n",
      "Completed 2496/6568\n",
      "Completed 2560/6568\n",
      "Completed 2624/6568\n",
      "Completed 2688/6568\n",
      "Completed 2752/6568\n",
      "Completed 2816/6568\n",
      "Completed 2880/6568\n",
      "Completed 2944/6568\n",
      "Completed 3008/6568\n",
      "Completed 3072/6568\n",
      "Completed 3136/6568\n",
      "Completed 3200/6568\n",
      "Completed 3264/6568\n",
      "Completed 3328/6568\n",
      "Completed 3392/6568\n",
      "Completed 3456/6568\n",
      "Completed 3520/6568\n",
      "Completed 3584/6568\n",
      "Completed 3648/6568\n",
      "Completed 3712/6568\n",
      "Completed 3776/6568\n",
      "Completed 3840/6568\n",
      "Completed 3904/6568\n",
      "Completed 3968/6568\n",
      "Completed 4032/6568\n",
      "Completed 4096/6568\n",
      "Completed 4160/6568\n",
      "Completed 4224/6568\n",
      "Completed 4288/6568\n",
      "Completed 4352/6568\n",
      "Completed 4416/6568\n",
      "Completed 4480/6568\n",
      "Completed 4544/6568\n",
      "Completed 4608/6568\n",
      "Completed 4672/6568\n",
      "Completed 4736/6568\n",
      "Completed 4800/6568\n",
      "Completed 4864/6568\n",
      "Completed 4928/6568\n",
      "Completed 4992/6568\n",
      "Completed 5056/6568\n",
      "Completed 5120/6568\n",
      "Completed 5184/6568\n",
      "Completed 5248/6568\n",
      "Completed 5312/6568\n",
      "Completed 5376/6568\n",
      "Completed 5440/6568\n",
      "Completed 5504/6568\n",
      "Completed 5568/6568\n",
      "Completed 5632/6568\n",
      "Completed 5696/6568\n",
      "Completed 5760/6568\n",
      "Completed 5824/6568\n",
      "Completed 5888/6568\n",
      "Completed 5952/6568\n",
      "Completed 6016/6568\n",
      "Completed 6080/6568\n",
      "Completed 6144/6568\n",
      "Completed 6208/6568\n",
      "Completed 6272/6568\n",
      "Completed 6336/6568\n",
      "Completed 6400/6568\n",
      "Completed 6464/6568\n",
      "Completed 6528/6568\n",
      "Completed 6568/6568\n"
     ]
    },
    {
     "data": {
      "text/html": [
       "<pre>Logistic regression:</pre>"
      ],
      "text/plain": [
       "Logistic regression:"
      ]
     },
     "metadata": {},
     "output_type": "display_data"
    },
    {
     "data": {
      "text/html": [
       "<pre>--------------------------------------------------------</pre>"
      ],
      "text/plain": [
       "--------------------------------------------------------"
      ]
     },
     "metadata": {},
     "output_type": "display_data"
    },
    {
     "data": {
      "text/html": [
       "<pre>Number of examples          : 26992</pre>"
      ],
      "text/plain": [
       "Number of examples          : 26992"
      ]
     },
     "metadata": {},
     "output_type": "display_data"
    },
    {
     "data": {
      "text/html": [
       "<pre>Number of classes           : 13</pre>"
      ],
      "text/plain": [
       "Number of classes           : 13"
      ]
     },
     "metadata": {},
     "output_type": "display_data"
    },
    {
     "data": {
      "text/html": [
       "<pre>Number of feature columns   : 1</pre>"
      ],
      "text/plain": [
       "Number of feature columns   : 1"
      ]
     },
     "metadata": {},
     "output_type": "display_data"
    },
    {
     "data": {
      "text/html": [
       "<pre>Number of unpacked features : 2048</pre>"
      ],
      "text/plain": [
       "Number of unpacked features : 2048"
      ]
     },
     "metadata": {},
     "output_type": "display_data"
    },
    {
     "data": {
      "text/html": [
       "<pre>Number of coefficients      : 24588</pre>"
      ],
      "text/plain": [
       "Number of coefficients      : 24588"
      ]
     },
     "metadata": {},
     "output_type": "display_data"
    },
    {
     "data": {
      "text/html": [
       "<pre>Starting L-BFGS</pre>"
      ],
      "text/plain": [
       "Starting L-BFGS"
      ]
     },
     "metadata": {},
     "output_type": "display_data"
    },
    {
     "data": {
      "text/html": [
       "<pre>--------------------------------------------------------</pre>"
      ],
      "text/plain": [
       "--------------------------------------------------------"
      ]
     },
     "metadata": {},
     "output_type": "display_data"
    },
    {
     "data": {
      "text/html": [
       "<pre>+-----------+----------+-----------+--------------+-------------------+---------------------+</pre>"
      ],
      "text/plain": [
       "+-----------+----------+-----------+--------------+-------------------+---------------------+"
      ]
     },
     "metadata": {},
     "output_type": "display_data"
    },
    {
     "data": {
      "text/html": [
       "<pre>| Iteration | Passes   | Step size | Elapsed Time | Training Accuracy | Validation Accuracy |</pre>"
      ],
      "text/plain": [
       "| Iteration | Passes   | Step size | Elapsed Time | Training Accuracy | Validation Accuracy |"
      ]
     },
     "metadata": {},
     "output_type": "display_data"
    },
    {
     "data": {
      "text/html": [
       "<pre>+-----------+----------+-----------+--------------+-------------------+---------------------+</pre>"
      ],
      "text/plain": [
       "+-----------+----------+-----------+--------------+-------------------+---------------------+"
      ]
     },
     "metadata": {},
     "output_type": "display_data"
    },
    {
     "data": {
      "text/html": [
       "<pre>| 0         | 2        | 1.000000  | 1.910899     | 0.478883          | 0.476248            |</pre>"
      ],
      "text/plain": [
       "| 0         | 2        | 1.000000  | 1.910899     | 0.478883          | 0.476248            |"
      ]
     },
     "metadata": {},
     "output_type": "display_data"
    },
    {
     "data": {
      "text/html": [
       "<pre>| 1         | 4        | 1.000000  | 3.642934     | 0.618072          | 0.615865            |</pre>"
      ],
      "text/plain": [
       "| 1         | 4        | 1.000000  | 3.642934     | 0.618072          | 0.615865            |"
      ]
     },
     "metadata": {},
     "output_type": "display_data"
    },
    {
     "data": {
      "text/html": [
       "<pre>| 2         | 6        | 0.876393  | 5.364351     | 0.692057          | 0.688946            |</pre>"
      ],
      "text/plain": [
       "| 2         | 6        | 0.876393  | 5.364351     | 0.692057          | 0.688946            |"
      ]
     },
     "metadata": {},
     "output_type": "display_data"
    },
    {
     "data": {
      "text/html": [
       "<pre>| 3         | 7        | 1.000000  | 6.602370     | 0.704172          | 0.703106            |</pre>"
      ],
      "text/plain": [
       "| 3         | 7        | 1.000000  | 6.602370     | 0.704172          | 0.703106            |"
      ]
     },
     "metadata": {},
     "output_type": "display_data"
    },
    {
     "data": {
      "text/html": [
       "<pre>| 4         | 9        | 1.000000  | 8.296113     | 0.709395          | 0.705390            |</pre>"
      ],
      "text/plain": [
       "| 4         | 9        | 1.000000  | 8.296113     | 0.709395          | 0.705390            |"
      ]
     },
     "metadata": {},
     "output_type": "display_data"
    },
    {
     "data": {
      "text/html": [
       "<pre>| 9         | 15       | 1.000000  | 14.989307    | 0.826615          | 0.821711            |</pre>"
      ],
      "text/plain": [
       "| 9         | 15       | 1.000000  | 14.989307    | 0.826615          | 0.821711            |"
      ]
     },
     "metadata": {},
     "output_type": "display_data"
    },
    {
     "data": {
      "text/html": [
       "<pre>| 14        | 21       | 0.990147  | 21.702901    | 0.855031          | 0.848965            |</pre>"
      ],
      "text/plain": [
       "| 14        | 21       | 0.990147  | 21.702901    | 0.855031          | 0.848965            |"
      ]
     },
     "metadata": {},
     "output_type": "display_data"
    },
    {
     "data": {
      "text/html": [
       "<pre>| 19        | 27       | 0.902284  | 28.434263    | 0.873296          | 0.860231            |</pre>"
      ],
      "text/plain": [
       "| 19        | 27       | 0.902284  | 28.434263    | 0.873296          | 0.860231            |"
      ]
     },
     "metadata": {},
     "output_type": "display_data"
    },
    {
     "data": {
      "text/html": [
       "<pre>| 24        | 34       | 1.000000  | 35.599678    | 0.892042          | 0.880024            |</pre>"
      ],
      "text/plain": [
       "| 24        | 34       | 1.000000  | 35.599678    | 0.892042          | 0.880024            |"
      ]
     },
     "metadata": {},
     "output_type": "display_data"
    },
    {
     "data": {
      "text/html": [
       "<pre>| 29        | 39       | 1.000000  | 41.841796    | 0.901675          | 0.884744            |</pre>"
      ],
      "text/plain": [
       "| 29        | 39       | 1.000000  | 41.841796    | 0.901675          | 0.884744            |"
      ]
     },
     "metadata": {},
     "output_type": "display_data"
    },
    {
     "data": {
      "text/html": [
       "<pre>| 34        | 45       | 1.000000  | 48.548134    | 0.908232          | 0.888094            |</pre>"
      ],
      "text/plain": [
       "| 34        | 45       | 1.000000  | 48.548134    | 0.908232          | 0.888094            |"
      ]
     },
     "metadata": {},
     "output_type": "display_data"
    },
    {
     "data": {
      "text/html": [
       "<pre>| 39        | 52       | 1.000000  | 55.685119    | 0.915308          | 0.890378            |</pre>"
      ],
      "text/plain": [
       "| 39        | 52       | 1.000000  | 55.685119    | 0.915308          | 0.890378            |"
      ]
     },
     "metadata": {},
     "output_type": "display_data"
    },
    {
     "data": {
      "text/html": [
       "<pre>| 44        | 58       | 1.000000  | 62.463869    | 0.924459          | 0.896468            |</pre>"
      ],
      "text/plain": [
       "| 44        | 58       | 1.000000  | 62.463869    | 0.924459          | 0.896468            |"
      ]
     },
     "metadata": {},
     "output_type": "display_data"
    },
    {
     "data": {
      "text/html": [
       "<pre>| 49        | 67       | 0.644509  | 70.572989    | 0.926941          | 0.898295            |</pre>"
      ],
      "text/plain": [
       "| 49        | 67       | 0.644509  | 70.572989    | 0.926941          | 0.898295            |"
      ]
     },
     "metadata": {},
     "output_type": "display_data"
    },
    {
     "data": {
      "text/html": [
       "<pre>| 54        | 74       | 0.798002  | 77.769954    | 0.934610          | 0.905146            |</pre>"
      ],
      "text/plain": [
       "| 54        | 74       | 0.798002  | 77.769954    | 0.934610          | 0.905146            |"
      ]
     },
     "metadata": {},
     "output_type": "display_data"
    },
    {
     "data": {
      "text/html": [
       "<pre>| 59        | 79       | 1.000000  | 84.084460    | 0.940130          | 0.905146            |</pre>"
      ],
      "text/plain": [
       "| 59        | 79       | 1.000000  | 84.084460    | 0.940130          | 0.905146            |"
      ]
     },
     "metadata": {},
     "output_type": "display_data"
    },
    {
     "data": {
      "text/html": [
       "<pre>| 64        | 88       | 0.474363  | 92.247231    | 0.944576          | 0.904994            |</pre>"
      ],
      "text/plain": [
       "| 64        | 88       | 0.474363  | 92.247231    | 0.944576          | 0.904994            |"
      ]
     },
     "metadata": {},
     "output_type": "display_data"
    },
    {
     "data": {
      "text/html": [
       "<pre>| 69        | 94       | 1.000000  | 98.944336    | 0.947651          | 0.909409            |</pre>"
      ],
      "text/plain": [
       "| 69        | 94       | 1.000000  | 98.944336    | 0.947651          | 0.909409            |"
      ]
     },
     "metadata": {},
     "output_type": "display_data"
    },
    {
     "data": {
      "text/html": [
       "<pre>| 74        | 101      | 0.482277  | 106.097513   | 0.952430          | 0.908191            |</pre>"
      ],
      "text/plain": [
       "| 74        | 101      | 0.482277  | 106.097513   | 0.952430          | 0.908191            |"
      ]
     },
     "metadata": {},
     "output_type": "display_data"
    },
    {
     "data": {
      "text/html": [
       "<pre>| 79        | 107      | 1.000000  | 112.847429   | 0.954987          | 0.908648            |</pre>"
      ],
      "text/plain": [
       "| 79        | 107      | 1.000000  | 112.847429   | 0.954987          | 0.908648            |"
      ]
     },
     "metadata": {},
     "output_type": "display_data"
    },
    {
     "data": {
      "text/html": [
       "<pre>| 84        | 118      | 1.093900  | 121.912691   | 0.957617          | 0.909409            |</pre>"
      ],
      "text/plain": [
       "| 84        | 118      | 1.093900  | 121.912691   | 0.957617          | 0.909409            |"
      ]
     },
     "metadata": {},
     "output_type": "display_data"
    },
    {
     "data": {
      "text/html": [
       "<pre>| 89        | 126      | 0.927899  | 129.674269   | 0.961507          | 0.911845            |</pre>"
      ],
      "text/plain": [
       "| 89        | 126      | 0.927899  | 129.674269   | 0.961507          | 0.911845            |"
      ]
     },
     "metadata": {},
     "output_type": "display_data"
    },
    {
     "data": {
      "text/html": [
       "<pre>| 94        | 132      | 1.000000  | 136.424581   | 0.965879          | 0.916108            |</pre>"
      ],
      "text/plain": [
       "| 94        | 132      | 1.000000  | 136.424581   | 0.965879          | 0.916108            |"
      ]
     },
     "metadata": {},
     "output_type": "display_data"
    },
    {
     "data": {
      "text/html": [
       "<pre>| 99        | 140      | 1.000000  | 144.032692   | 0.967398          | 0.913520            |</pre>"
      ],
      "text/plain": [
       "| 99        | 140      | 1.000000  | 144.032692   | 0.967398          | 0.913520            |"
      ]
     },
     "metadata": {},
     "output_type": "display_data"
    },
    {
     "data": {
      "text/html": [
       "<pre>| 104       | 146      | 1.000000  | 150.678826   | 0.969213          | 0.918240            |</pre>"
      ],
      "text/plain": [
       "| 104       | 146      | 1.000000  | 150.678826   | 0.969213          | 0.918240            |"
      ]
     },
     "metadata": {},
     "output_type": "display_data"
    },
    {
     "data": {
      "text/html": [
       "<pre>| 109       | 153      | 1.000000  | 157.848056   | 0.972066          | 0.918849            |</pre>"
      ],
      "text/plain": [
       "| 109       | 153      | 1.000000  | 157.848056   | 0.972066          | 0.918849            |"
      ]
     },
     "metadata": {},
     "output_type": "display_data"
    },
    {
     "data": {
      "text/html": [
       "<pre>| 114       | 159      | 1.000000  | 164.508540   | 0.973733          | 0.919915            |</pre>"
      ],
      "text/plain": [
       "| 114       | 159      | 1.000000  | 164.508540   | 0.973733          | 0.919915            |"
      ]
     },
     "metadata": {},
     "output_type": "display_data"
    },
    {
     "data": {
      "text/html": [
       "<pre>| 119       | 166      | 1.000000  | 171.703767   | 0.975252          | 0.919762            |</pre>"
      ],
      "text/plain": [
       "| 119       | 166      | 1.000000  | 171.703767   | 0.975252          | 0.919762            |"
      ]
     },
     "metadata": {},
     "output_type": "display_data"
    },
    {
     "data": {
      "text/html": [
       "<pre>| 124       | 174      | 0.759629  | 179.311670   | 0.976289          | 0.922199            |</pre>"
      ],
      "text/plain": [
       "| 124       | 174      | 0.759629  | 179.311670   | 0.976289          | 0.922199            |"
      ]
     },
     "metadata": {},
     "output_type": "display_data"
    },
    {
     "data": {
      "text/html": [
       "<pre>| 129       | 182      | 1.000000  | 187.005234   | 0.978068          | 0.921437            |</pre>"
      ],
      "text/plain": [
       "| 129       | 182      | 1.000000  | 187.005234   | 0.978068          | 0.921437            |"
      ]
     },
     "metadata": {},
     "output_type": "display_data"
    },
    {
     "data": {
      "text/html": [
       "<pre>| 134       | 191      | 0.685708  | 195.153797   | 0.980513          | 0.923112            |</pre>"
      ],
      "text/plain": [
       "| 134       | 191      | 0.685708  | 195.153797   | 0.980513          | 0.923112            |"
      ]
     },
     "metadata": {},
     "output_type": "display_data"
    },
    {
     "data": {
      "text/html": [
       "<pre>| 139       | 199      | 0.560063  | 202.815124   | 0.982550          | 0.923417            |</pre>"
      ],
      "text/plain": [
       "| 139       | 199      | 0.560063  | 202.815124   | 0.982550          | 0.923417            |"
      ]
     },
     "metadata": {},
     "output_type": "display_data"
    },
    {
     "data": {
      "text/html": [
       "<pre>| 144       | 207      | 0.692113  | 210.556934   | 0.983106          | 0.923417            |</pre>"
      ],
      "text/plain": [
       "| 144       | 207      | 0.692113  | 210.556934   | 0.983106          | 0.923417            |"
      ]
     },
     "metadata": {},
     "output_type": "display_data"
    },
    {
     "data": {
      "text/html": [
       "<pre>| 149       | 214      | 1.000000  | 217.789623   | 0.984477          | 0.921285            |</pre>"
      ],
      "text/plain": [
       "| 149       | 214      | 1.000000  | 217.789623   | 0.984477          | 0.921285            |"
      ]
     },
     "metadata": {},
     "output_type": "display_data"
    },
    {
     "data": {
      "text/html": [
       "<pre>| 154       | 220      | 0.790420  | 224.450037   | 0.986107          | 0.919458            |</pre>"
      ],
      "text/plain": [
       "| 154       | 220      | 0.790420  | 224.450037   | 0.986107          | 0.919458            |"
      ]
     },
     "metadata": {},
     "output_type": "display_data"
    },
    {
     "data": {
      "text/html": [
       "<pre>| 159       | 227      | 1.000000  | 231.557348   | 0.986922          | 0.919458            |</pre>"
      ],
      "text/plain": [
       "| 159       | 227      | 1.000000  | 231.557348   | 0.986922          | 0.919458            |"
      ]
     },
     "metadata": {},
     "output_type": "display_data"
    },
    {
     "data": {
      "text/html": [
       "<pre>| 164       | 237      | 1.369952  | 240.098931   | 0.987885          | 0.920676            |</pre>"
      ],
      "text/plain": [
       "| 164       | 237      | 1.369952  | 240.098931   | 0.987885          | 0.920676            |"
      ]
     },
     "metadata": {},
     "output_type": "display_data"
    },
    {
     "data": {
      "text/html": [
       "<pre>| 169       | 243      | 1.363775  | 246.797043   | 0.981958          | 0.918697            |</pre>"
      ],
      "text/plain": [
       "| 169       | 243      | 1.363775  | 246.797043   | 0.981958          | 0.918697            |"
      ]
     },
     "metadata": {},
     "output_type": "display_data"
    },
    {
     "data": {
      "text/html": [
       "<pre>| 174       | 253      | 0.958402  | 255.360814   | 0.989812          | 0.919153            |</pre>"
      ],
      "text/plain": [
       "| 174       | 253      | 0.958402  | 255.360814   | 0.989812          | 0.919153            |"
      ]
     },
     "metadata": {},
     "output_type": "display_data"
    },
    {
     "data": {
      "text/html": [
       "<pre>| 179       | 259      | 1.000000  | 262.073777   | 0.990960          | 0.920219            |</pre>"
      ],
      "text/plain": [
       "| 179       | 259      | 1.000000  | 262.073777   | 0.990960          | 0.920219            |"
      ]
     },
     "metadata": {},
     "output_type": "display_data"
    },
    {
     "data": {
      "text/html": [
       "<pre>| 184       | 265      | 1.000000  | 268.754652   | 0.991590          | 0.920371            |</pre>"
      ],
      "text/plain": [
       "| 184       | 265      | 1.000000  | 268.754652   | 0.991590          | 0.920371            |"
      ]
     },
     "metadata": {},
     "output_type": "display_data"
    },
    {
     "data": {
      "text/html": [
       "<pre>| 189       | 271      | 1.000000  | 275.491796   | 0.991961          | 0.920371            |</pre>"
      ],
      "text/plain": [
       "| 189       | 271      | 1.000000  | 275.491796   | 0.991961          | 0.920371            |"
      ]
     },
     "metadata": {},
     "output_type": "display_data"
    },
    {
     "data": {
      "text/html": [
       "<pre>| 194       | 278      | 0.922465  | 282.612318   | 0.992331          | 0.920524            |</pre>"
      ],
      "text/plain": [
       "| 194       | 278      | 0.922465  | 282.612318   | 0.992331          | 0.920524            |"
      ]
     },
     "metadata": {},
     "output_type": "display_data"
    },
    {
     "data": {
      "text/html": [
       "<pre>| 199       | 284      | 1.000000  | 289.340296   | 0.993257          | 0.919762            |</pre>"
      ],
      "text/plain": [
       "| 199       | 284      | 1.000000  | 289.340296   | 0.993257          | 0.919762            |"
      ]
     },
     "metadata": {},
     "output_type": "display_data"
    },
    {
     "data": {
      "text/html": [
       "<pre>| 204       | 290      | 1.000000  | 296.083372   | 0.994146          | 0.921590            |</pre>"
      ],
      "text/plain": [
       "| 204       | 290      | 1.000000  | 296.083372   | 0.994146          | 0.921590            |"
      ]
     },
     "metadata": {},
     "output_type": "display_data"
    },
    {
     "data": {
      "text/html": [
       "<pre>| 209       | 298      | 0.950966  | 303.734326   | 0.993702          | 0.919458            |</pre>"
      ],
      "text/plain": [
       "| 209       | 298      | 0.950966  | 303.734326   | 0.993702          | 0.919458            |"
      ]
     },
     "metadata": {},
     "output_type": "display_data"
    },
    {
     "data": {
      "text/html": [
       "<pre>| 214       | 305      | 1.000000  | 310.882522   | 0.994554          | 0.919915            |</pre>"
      ],
      "text/plain": [
       "| 214       | 305      | 1.000000  | 310.882522   | 0.994554          | 0.919915            |"
      ]
     },
     "metadata": {},
     "output_type": "display_data"
    },
    {
     "data": {
      "text/html": [
       "<pre>| 219       | 312      | 1.000000  | 317.963436   | 0.994702          | 0.919762            |</pre>"
      ],
      "text/plain": [
       "| 219       | 312      | 1.000000  | 317.963436   | 0.994702          | 0.919762            |"
      ]
     },
     "metadata": {},
     "output_type": "display_data"
    },
    {
     "data": {
      "text/html": [
       "<pre>| 224       | 321      | 1.219269  | 326.117510   | 0.994739          | 0.920676            |</pre>"
      ],
      "text/plain": [
       "| 224       | 321      | 1.219269  | 326.117510   | 0.994739          | 0.920676            |"
      ]
     },
     "metadata": {},
     "output_type": "display_data"
    },
    {
     "data": {
      "text/html": [
       "<pre>| 229       | 328      | 0.933775  | 333.254344   | 0.995480          | 0.919610            |</pre>"
      ],
      "text/plain": [
       "| 229       | 328      | 0.933775  | 333.254344   | 0.995480          | 0.919610            |"
      ]
     },
     "metadata": {},
     "output_type": "display_data"
    },
    {
     "data": {
      "text/html": [
       "<pre>| 234       | 337      | 1.621082  | 341.298235   | 0.995554          | 0.921133            |</pre>"
      ],
      "text/plain": [
       "| 234       | 337      | 1.621082  | 341.298235   | 0.995554          | 0.921133            |"
      ]
     },
     "metadata": {},
     "output_type": "display_data"
    },
    {
     "data": {
      "text/html": [
       "<pre>| 239       | 346      | 1.000000  | 349.355808   | 0.995925          | 0.920219            |</pre>"
      ],
      "text/plain": [
       "| 239       | 346      | 1.000000  | 349.355808   | 0.995925          | 0.920219            |"
      ]
     },
     "metadata": {},
     "output_type": "display_data"
    },
    {
     "data": {
      "text/html": [
       "<pre>| 244       | 354      | 0.708304  | 356.963938   | 0.996221          | 0.920371            |</pre>"
      ],
      "text/plain": [
       "| 244       | 354      | 0.708304  | 356.963938   | 0.996221          | 0.920371            |"
      ]
     },
     "metadata": {},
     "output_type": "display_data"
    },
    {
     "data": {
      "text/html": [
       "<pre>| 249       | 364      | 1.000000  | 365.572333   | 0.996221          | 0.920676            |</pre>"
      ],
      "text/plain": [
       "| 249       | 364      | 1.000000  | 365.572333   | 0.996221          | 0.920676            |"
      ]
     },
     "metadata": {},
     "output_type": "display_data"
    },
    {
     "data": {
      "text/html": [
       "<pre>| 254       | 373      | 0.591930  | 373.701014   | 0.996629          | 0.921437            |</pre>"
      ],
      "text/plain": [
       "| 254       | 373      | 0.591930  | 373.701014   | 0.996629          | 0.921437            |"
      ]
     },
     "metadata": {},
     "output_type": "display_data"
    },
    {
     "data": {
      "text/html": [
       "<pre>| 259       | 378      | 1.000000  | 379.870524   | 0.997295          | 0.921437            |</pre>"
      ],
      "text/plain": [
       "| 259       | 378      | 1.000000  | 379.870524   | 0.997295          | 0.921437            |"
      ]
     },
     "metadata": {},
     "output_type": "display_data"
    },
    {
     "data": {
      "text/html": [
       "<pre>| 264       | 386      | 0.761596  | 387.486629   | 0.997295          | 0.922046            |</pre>"
      ],
      "text/plain": [
       "| 264       | 386      | 0.761596  | 387.486629   | 0.997295          | 0.922046            |"
      ]
     },
     "metadata": {},
     "output_type": "display_data"
    },
    {
     "data": {
      "text/html": [
       "<pre>| 269       | 393      | 1.000000  | 394.590255   | 0.997518          | 0.923264            |</pre>"
      ],
      "text/plain": [
       "| 269       | 393      | 1.000000  | 394.590255   | 0.997518          | 0.923264            |"
      ]
     },
     "metadata": {},
     "output_type": "display_data"
    },
    {
     "data": {
      "text/html": [
       "<pre>| 274       | 400      | 1.000000  | 401.668736   | 0.998036          | 0.922655            |</pre>"
      ],
      "text/plain": [
       "| 274       | 400      | 1.000000  | 401.668736   | 0.998036          | 0.922655            |"
      ]
     },
     "metadata": {},
     "output_type": "display_data"
    },
    {
     "data": {
      "text/html": [
       "<pre>| 279       | 406      | 1.000000  | 408.356358   | 0.998074          | 0.922199            |</pre>"
      ],
      "text/plain": [
       "| 279       | 406      | 1.000000  | 408.356358   | 0.998074          | 0.922199            |"
      ]
     },
     "metadata": {},
     "output_type": "display_data"
    },
    {
     "data": {
      "text/html": [
       "<pre>| 284       | 415      | 1.000000  | 416.568908   | 0.998296          | 0.921437            |</pre>"
      ],
      "text/plain": [
       "| 284       | 415      | 1.000000  | 416.568908   | 0.998296          | 0.921437            |"
      ]
     },
     "metadata": {},
     "output_type": "display_data"
    },
    {
     "data": {
      "text/html": [
       "<pre>| 289       | 424      | 1.312557  | 424.685703   | 0.998555          | 0.922199            |</pre>"
      ],
      "text/plain": [
       "| 289       | 424      | 1.312557  | 424.685703   | 0.998555          | 0.922199            |"
      ]
     },
     "metadata": {},
     "output_type": "display_data"
    },
    {
     "data": {
      "text/html": [
       "<pre>| 294       | 433      | 1.000000  | 432.742216   | 0.998629          | 0.923264            |</pre>"
      ],
      "text/plain": [
       "| 294       | 433      | 1.000000  | 432.742216   | 0.998629          | 0.923264            |"
      ]
     },
     "metadata": {},
     "output_type": "display_data"
    },
    {
     "data": {
      "text/html": [
       "<pre>| 299       | 439      | 1.000000  | 439.424696   | 0.998814          | 0.922199            |</pre>"
      ],
      "text/plain": [
       "| 299       | 439      | 1.000000  | 439.424696   | 0.998814          | 0.922199            |"
      ]
     },
     "metadata": {},
     "output_type": "display_data"
    },
    {
     "data": {
      "text/html": [
       "<pre>| 304       | 450      | 1.310656  | 448.417753   | 0.999000          | 0.923417            |</pre>"
      ],
      "text/plain": [
       "| 304       | 450      | 1.310656  | 448.417753   | 0.999000          | 0.923417            |"
      ]
     },
     "metadata": {},
     "output_type": "display_data"
    },
    {
     "data": {
      "text/html": [
       "<pre>| 309       | 457      | 1.000000  | 455.582995   | 0.998852          | 0.921590            |</pre>"
      ],
      "text/plain": [
       "| 309       | 457      | 1.000000  | 455.582995   | 0.998852          | 0.921590            |"
      ]
     },
     "metadata": {},
     "output_type": "display_data"
    },
    {
     "data": {
      "text/html": [
       "<pre>| 314       | 465      | 0.936691  | 463.109539   | 0.999037          | 0.922503            |</pre>"
      ],
      "text/plain": [
       "| 314       | 465      | 0.936691  | 463.109539   | 0.999037          | 0.922503            |"
      ]
     },
     "metadata": {},
     "output_type": "display_data"
    },
    {
     "data": {
      "text/html": [
       "<pre>| 319       | 474      | 0.725179  | 471.145350   | 0.999148          | 0.922046            |</pre>"
      ],
      "text/plain": [
       "| 319       | 474      | 0.725179  | 471.145350   | 0.999148          | 0.922046            |"
      ]
     },
     "metadata": {},
     "output_type": "display_data"
    },
    {
     "data": {
      "text/html": [
       "<pre>| 324       | 482      | 0.474600  | 478.601546   | 0.999037          | 0.922351            |</pre>"
      ],
      "text/plain": [
       "| 324       | 482      | 0.474600  | 478.601546   | 0.999037          | 0.922351            |"
      ]
     },
     "metadata": {},
     "output_type": "display_data"
    },
    {
     "data": {
      "text/html": [
       "<pre>| 329       | 488      | 1.000000  | 485.190068   | 0.999259          | 0.921742            |</pre>"
      ],
      "text/plain": [
       "| 329       | 488      | 1.000000  | 485.190068   | 0.999259          | 0.921742            |"
      ]
     },
     "metadata": {},
     "output_type": "display_data"
    },
    {
     "data": {
      "text/html": [
       "<pre>| 334       | 493      | 1.000000  | 491.475365   | 0.999481          | 0.922199            |</pre>"
      ],
      "text/plain": [
       "| 334       | 493      | 1.000000  | 491.475365   | 0.999481          | 0.922199            |"
      ]
     },
     "metadata": {},
     "output_type": "display_data"
    },
    {
     "data": {
      "text/html": [
       "<pre>| 339       | 499      | 1.000000  | 498.174477   | 0.999333          | 0.922199            |</pre>"
      ],
      "text/plain": [
       "| 339       | 499      | 1.000000  | 498.174477   | 0.999333          | 0.922199            |"
      ]
     },
     "metadata": {},
     "output_type": "display_data"
    },
    {
     "data": {
      "text/html": [
       "<pre>| 344       | 506      | 1.000000  | 505.339964   | 0.999518          | 0.922199            |</pre>"
      ],
      "text/plain": [
       "| 344       | 506      | 1.000000  | 505.339964   | 0.999518          | 0.922199            |"
      ]
     },
     "metadata": {},
     "output_type": "display_data"
    },
    {
     "data": {
      "text/html": [
       "<pre>| 349       | 512      | 1.000000  | 511.955843   | 0.999667          | 0.922199            |</pre>"
      ],
      "text/plain": [
       "| 349       | 512      | 1.000000  | 511.955843   | 0.999667          | 0.922199            |"
      ]
     },
     "metadata": {},
     "output_type": "display_data"
    },
    {
     "data": {
      "text/html": [
       "<pre>| 354       | 521      | 0.500000  | 519.927276   | 0.999630          | 0.923569            |</pre>"
      ],
      "text/plain": [
       "| 354       | 521      | 0.500000  | 519.927276   | 0.999630          | 0.923569            |"
      ]
     },
     "metadata": {},
     "output_type": "display_data"
    },
    {
     "data": {
      "text/html": [
       "<pre>| 359       | 529      | 1.000000  | 527.536047   | 0.999741          | 0.921590            |</pre>"
      ],
      "text/plain": [
       "| 359       | 529      | 1.000000  | 527.536047   | 0.999741          | 0.921590            |"
      ]
     },
     "metadata": {},
     "output_type": "display_data"
    },
    {
     "data": {
      "text/html": [
       "<pre>| 364       | 538      | 1.000000  | 535.662809   | 0.999667          | 0.921894            |</pre>"
      ],
      "text/plain": [
       "| 364       | 538      | 1.000000  | 535.662809   | 0.999667          | 0.921894            |"
      ]
     },
     "metadata": {},
     "output_type": "display_data"
    },
    {
     "data": {
      "text/html": [
       "<pre>| 369       | 548      | 1.911342  | 544.113664   | 0.999555          | 0.920981            |</pre>"
      ],
      "text/plain": [
       "| 369       | 548      | 1.911342  | 544.113664   | 0.999555          | 0.920981            |"
      ]
     },
     "metadata": {},
     "output_type": "display_data"
    },
    {
     "data": {
      "text/html": [
       "<pre>| 374       | 558      | 0.884547  | 552.575887   | 0.999630          | 0.922808            |</pre>"
      ],
      "text/plain": [
       "| 374       | 558      | 0.884547  | 552.575887   | 0.999630          | 0.922808            |"
      ]
     },
     "metadata": {},
     "output_type": "display_data"
    },
    {
     "data": {
      "text/html": [
       "<pre>| 379       | 567      | 0.486220  | 560.625888   | 0.999667          | 0.921894            |</pre>"
      ],
      "text/plain": [
       "| 379       | 567      | 0.486220  | 560.625888   | 0.999667          | 0.921894            |"
      ]
     },
     "metadata": {},
     "output_type": "display_data"
    },
    {
     "data": {
      "text/html": [
       "<pre>| 384       | 574      | 1.000000  | 567.730481   | 0.999704          | 0.922046            |</pre>"
      ],
      "text/plain": [
       "| 384       | 574      | 1.000000  | 567.730481   | 0.999704          | 0.922046            |"
      ]
     },
     "metadata": {},
     "output_type": "display_data"
    },
    {
     "data": {
      "text/html": [
       "<pre>| 389       | 580      | 1.000000  | 574.331952   | 0.999592          | 0.920219            |</pre>"
      ],
      "text/plain": [
       "| 389       | 580      | 1.000000  | 574.331952   | 0.999592          | 0.920219            |"
      ]
     },
     "metadata": {},
     "output_type": "display_data"
    },
    {
     "data": {
      "text/html": [
       "<pre>| 394       | 588      | 0.473410  | 581.829725   | 0.999630          | 0.921437            |</pre>"
      ],
      "text/plain": [
       "| 394       | 588      | 0.473410  | 581.829725   | 0.999630          | 0.921437            |"
      ]
     },
     "metadata": {},
     "output_type": "display_data"
    },
    {
     "data": {
      "text/html": [
       "<pre>| 399       | 594      | 1.000000  | 588.452972   | 0.999667          | 0.921590            |</pre>"
      ],
      "text/plain": [
       "| 399       | 594      | 1.000000  | 588.452972   | 0.999667          | 0.921590            |"
      ]
     },
     "metadata": {},
     "output_type": "display_data"
    },
    {
     "data": {
      "text/html": [
       "<pre>+-----------+----------+-----------+--------------+-------------------+---------------------+</pre>"
      ],
      "text/plain": [
       "+-----------+----------+-----------+--------------+-------------------+---------------------+"
      ]
     },
     "metadata": {},
     "output_type": "display_data"
    }
   ],
   "source": [
    "model = tc.image_classifier.create(train_data,'label',\n",
    "                                   model='resnet-50',\n",
    "                                   class_weights='auto',\n",
    "                                   validation_set=test_data,\n",
    "                                   max_iterations=400,\n",
    "                                   seed=105)\n",
    "# model = tc.load_model(os.path.join(backup_path,'model_best.model'))\n",
    "        "
   ]
  },
  {
   "cell_type": "code",
   "execution_count": 10,
   "metadata": {},
   "outputs": [
    {
     "name": "stderr",
     "output_type": "stream",
     "text": [
      "WARNING:root:TensorFlow version 2.2.0 detected. Last version known to be fully compatible is 1.14.0 .\n",
      "WARNING:root:Keras version 2.3.1 detected. Last version known to be fully compatible of Keras is 2.2.4 .\n"
     ]
    }
   ],
   "source": [
    "model.save(os.path.join(saved_model_path,'food_classification.model'))\n",
    "model.export_coreml(os.path.join(saved_model_path,'food_classification.mlmodel'))"
   ]
  },
  {
   "cell_type": "code",
   "execution_count": 11,
   "metadata": {},
   "outputs": [
    {
     "name": "stdout",
     "output_type": "stream",
     "text": [
      "['sandwich', 'sandwich', 'sandwich', 'hamburger', 'sandwich', 'sandwich', 'sandwich', 'hamburger', 'hamburger', 'hamburger', 'hamburger', 'hamburger', 'hamburger', 'hamburger', 'hamburger', 'hamburger', 'hamburger', 'sandwich', 'banana', 'banana', 'banana', 'banana', 'banana', 'banana', 'apple', 'banana', 'banana', 'banana', 'french fries', 'french fries', 'apple', 'apple', 'apple', 'apple', 'apple', 'apple', 'apple', 'apple', 'apple', 'apple', 'apple', 'croissant', 'croissant', 'hamburger', 'hamburger', 'sandwich', 'sandwich', 'hamburger', 'spaghetti', 'spaghetti', 'sauteed vegetables', 'roast chicken', 'rice ball', 'rice ball', 'rice ball', 'rice ball', 'french fries', 'french fries', 'french fries', 'french bread', 'pork bun', 'pork bun', 'pork bun', 'pork bun']\n"
     ]
    }
   ],
   "source": [
    "predictions = model.predict(test_data.sample(0.01))\n",
    "print(predictions)\n",
    "\n",
    "\n"
   ]
  },
  {
   "cell_type": "code",
   "execution_count": 12,
   "metadata": {},
   "outputs": [
    {
     "name": "stdout",
     "output_type": "stream",
     "text": [
      "Performing feature extraction on resized images...\n",
      "Completed   64/6568\n",
      "Completed  128/6568\n",
      "Completed  192/6568\n",
      "Completed  256/6568\n",
      "Completed  320/6568\n",
      "Completed  384/6568\n",
      "Completed  448/6568\n",
      "Completed  512/6568\n",
      "Completed  576/6568\n",
      "Completed  640/6568\n",
      "Completed  704/6568\n",
      "Completed  768/6568\n",
      "Completed  832/6568\n",
      "Completed  896/6568\n",
      "Completed  960/6568\n",
      "Completed 1024/6568\n",
      "Completed 1088/6568\n",
      "Completed 1152/6568\n",
      "Completed 1216/6568\n",
      "Completed 1280/6568\n",
      "Completed 1344/6568\n",
      "Completed 1408/6568\n",
      "Completed 1472/6568\n",
      "Completed 1536/6568\n",
      "Completed 1600/6568\n",
      "Completed 1664/6568\n",
      "Completed 1728/6568\n",
      "Completed 1792/6568\n",
      "Completed 1856/6568\n",
      "Completed 1920/6568\n",
      "Completed 1984/6568\n",
      "Completed 2048/6568\n",
      "Completed 2112/6568\n",
      "Completed 2176/6568\n",
      "Completed 2240/6568\n",
      "Completed 2304/6568\n",
      "Completed 2368/6568\n",
      "Completed 2432/6568\n",
      "Completed 2496/6568\n",
      "Completed 2560/6568\n",
      "Completed 2624/6568\n",
      "Completed 2688/6568\n",
      "Completed 2752/6568\n",
      "Completed 2816/6568\n",
      "Completed 2880/6568\n",
      "Completed 2944/6568\n",
      "Completed 3008/6568\n",
      "Completed 3072/6568\n",
      "Completed 3136/6568\n",
      "Completed 3200/6568\n",
      "Completed 3264/6568\n",
      "Completed 3328/6568\n",
      "Completed 3392/6568\n",
      "Completed 3456/6568\n",
      "Completed 3520/6568\n",
      "Completed 3584/6568\n",
      "Completed 3648/6568\n",
      "Completed 3712/6568\n",
      "Completed 3776/6568\n",
      "Completed 3840/6568\n",
      "Completed 3904/6568\n",
      "Completed 3968/6568\n",
      "Completed 4032/6568\n",
      "Completed 4096/6568\n",
      "Completed 4160/6568\n",
      "Completed 4224/6568\n",
      "Completed 4288/6568\n",
      "Completed 4352/6568\n",
      "Completed 4416/6568\n",
      "Completed 4480/6568\n",
      "Completed 4544/6568\n",
      "Completed 4608/6568\n",
      "Completed 4672/6568\n",
      "Completed 4736/6568\n",
      "Completed 4800/6568\n",
      "Completed 4864/6568\n",
      "Completed 4928/6568\n",
      "Completed 4992/6568\n",
      "Completed 5056/6568\n",
      "Completed 5120/6568\n",
      "Completed 5184/6568\n",
      "Completed 5248/6568\n",
      "Completed 5312/6568\n",
      "Completed 5376/6568\n",
      "Completed 5440/6568\n",
      "Completed 5504/6568\n",
      "Completed 5568/6568\n",
      "Completed 5632/6568\n",
      "Completed 5696/6568\n",
      "Completed 5760/6568\n",
      "Completed 5824/6568\n",
      "Completed 5888/6568\n",
      "Completed 5952/6568\n",
      "Completed 6016/6568\n",
      "Completed 6080/6568\n",
      "Completed 6144/6568\n",
      "Completed 6208/6568\n",
      "Completed 6272/6568\n",
      "Completed 6336/6568\n",
      "Completed 6400/6568\n",
      "Completed 6464/6568\n",
      "Completed 6528/6568\n",
      "Completed 6568/6568\n",
      "{'accuracy': 0.9215895249695494, 'f1_score': 0.9384417114908399, 'log_loss': 0.30565584278086266, 'precision': 0.9394472041674876, 'recall': 0.9375296038110418, 'auc': 0.9967499751612235, 'roc_curve': Columns:\n",
      "\tthreshold\tfloat\n",
      "\tfpr\tfloat\n",
      "\ttpr\tfloat\n",
      "\tp\tint\n",
      "\tn\tint\n",
      "\tclass\tint\n",
      "\n",
      "Rows: 1300013\n",
      "\n",
      "Data:\n",
      "+-----------+---------------------+--------------------+-----+------+-------+\n",
      "| threshold |         fpr         |        tpr         |  p  |  n   | class |\n",
      "+-----------+---------------------+--------------------+-----+------+-------+\n",
      "|    0.0    |         1.0         |        1.0         | 772 | 5796 |   0   |\n",
      "|   1e-05   | 0.12146307798481712 |        1.0         | 772 | 5796 |   0   |\n",
      "|   2e-05   | 0.10593512767425811 | 0.9987046632124352 | 772 | 5796 |   0   |\n",
      "|   3e-05   | 0.09972394755003451 | 0.9974093264248705 | 772 | 5796 |   0   |\n",
      "|   4e-05   | 0.09403036576949621 | 0.9974093264248705 | 772 | 5796 |   0   |\n",
      "|   5e-05   | 0.08988957902001381 | 0.9961139896373057 | 772 | 5796 |   0   |\n",
      "|   6e-05   | 0.08712905452035886 | 0.9961139896373057 | 772 | 5796 |   0   |\n",
      "|   7e-05   | 0.08367839889579021 | 0.9961139896373057 | 772 | 5796 |   0   |\n",
      "|   8e-05   |  0.0821256038647343 | 0.9961139896373057 | 772 | 5796 |   0   |\n",
      "|   9e-05   | 0.08074534161490683 | 0.9961139896373057 | 772 | 5796 |   0   |\n",
      "+-----------+---------------------+--------------------+-----+------+-------+\n",
      "[1300013 rows x 6 columns]\n",
      "Note: Only the head of the SFrame is printed.\n",
      "You can use print_rows(num_rows=m, num_columns=n) to print more rows and columns., 'confusion_matrix': Columns:\n",
      "\ttarget_label\tstr\n",
      "\tpredicted_label\tstr\n",
      "\tcount\tint\n",
      "\n",
      "Rows: 94\n",
      "\n",
      "Data:\n",
      "+---------------+--------------------+-------+\n",
      "|  target_label |  predicted_label   | count |\n",
      "+---------------+--------------------+-------+\n",
      "|  french fries |       apple        |   2   |\n",
      "|   rice ball   |     rice ball      |  193  |\n",
      "|   croissant   |      sandwich      |   1   |\n",
      "|  french fries | sauteed vegetables |   2   |\n",
      "|     banana    |    french fries    |   8   |\n",
      "|   croissant   |     croissant      |  221  |\n",
      "|     banana    |       apple        |   21  |\n",
      "|  french fries |     hamburger      |   25  |\n",
      "|  french fries |     spaghetti      |   3   |\n",
      "| roast chicken |      sandwich      |   3   |\n",
      "+---------------+--------------------+-------+\n",
      "[94 rows x 3 columns]\n",
      "Note: Only the head of the SFrame is printed.\n",
      "You can use print_rows(num_rows=m, num_columns=n) to print more rows and columns.}\n"
     ]
    }
   ],
   "source": [
    "predictions = model.evaluate(test_data)\n",
    "print(predictions)"
   ]
  },
  {
   "cell_type": "code",
   "execution_count": null,
   "metadata": {},
   "outputs": [],
   "source": []
  }
 ],
 "metadata": {
  "environment": {
   "name": "tf2-gpu.2-1.m46",
   "type": "gcloud",
   "uri": "gcr.io/deeplearning-platform-release/tf2-gpu.2-1:m46"
  },
  "kernelspec": {
   "display_name": "Python 3",
   "language": "python",
   "name": "python3"
  },
  "language_info": {
   "codemirror_mode": {
    "name": "ipython",
    "version": 3
   },
   "file_extension": ".py",
   "mimetype": "text/x-python",
   "name": "python",
   "nbconvert_exporter": "python",
   "pygments_lexer": "ipython3",
   "version": "3.7.6"
  }
 },
 "nbformat": 4,
 "nbformat_minor": 4
}

{
 "cells": [
  {
   "cell_type": "markdown",
   "metadata": {},
   "source": [
    "# Preprocessing image for Food classification training"
   ]
  },
  {
   "cell_type": "code",
   "execution_count": 1,
   "metadata": {},
   "outputs": [],
   "source": [
    "import shutil # copy, move file\n",
    "import os # miscellaneous operation system interfaces\n",
    "import pathlib\n",
    "import pandas as pd\n",
    "from tqdm import tqdm\n",
    "import cv2\n",
    "import pandas as pd\n",
    "import numpy as np\n"
   ]
  },
  {
   "cell_type": "code",
   "execution_count": 2,
   "metadata": {},
   "outputs": [
    {
     "name": "stdout",
     "output_type": "stream",
     "text": [
      "Requirement already satisfied: pandarallel in /opt/conda/lib/python3.7/site-packages (1.4.8)\n",
      "Requirement already satisfied: dill in /opt/conda/lib/python3.7/site-packages (from pandarallel) (0.3.0)\n"
     ]
    }
   ],
   "source": [
    "!pip install pandarallel\n",
    "from pandarallel import pandarallel\n",
    "pandarallel.initialize(progress_bar=True,verbose=0,nb_workers=3)\n"
   ]
  },
  {
   "cell_type": "code",
   "execution_count": 3,
   "metadata": {},
   "outputs": [
    {
     "name": "stdout",
     "output_type": "stream",
     "text": [
      "/home/jupyter/FoodDetector\n"
     ]
    }
   ],
   "source": [
    "%cd ../"
   ]
  },
  {
   "cell_type": "code",
   "execution_count": 4,
   "metadata": {},
   "outputs": [
    {
     "name": "stdout",
     "output_type": "stream",
     "text": [
      "/home/jupyter/FoodDetector\n"
     ]
    }
   ],
   "source": [
    "print(os.getcwd())\n",
    "root_path = os.getcwd()"
   ]
  },
  {
   "cell_type": "markdown",
   "metadata": {},
   "source": [
    "# Download image from OpenImage\n",
    "\n",
    "Enter a script below to terminal in same folder of this file.\n",
    "\n",
    "``python openimages/src/openimages/download.py --csv_dir csv_dir --base_dir images --format darknet --labels Apple Beer Cucumber Radish Pancake Waffle Bagel Popcorn Burrito Cheese Muffin Snack Juice Cookie Cocktail Guacamole Coffee Food Fruit Grape Milk Mushroom Pizza Seafood Sushi Tea Taco Strawberry Tomato Wine Cream Bread Lemon Banana Hamburger Orange Peach Coconut Vegetable Cabbage Carrot Mango Pineapple Cake Honeycomb Candy Salad Grapefruit Turkey Doughnut Sandwich Watermelon 'Fast food' 'Hot dog' 'French fries' 'Ice cream' 'Egg (Food)' 'Pizza cutter' 'Submarine sandwich' 'Bell pepper'\n",
    "``"
   ]
  },
  {
   "cell_type": "code",
   "execution_count": 33,
   "metadata": {},
   "outputs": [],
   "source": [
    "open_images_directory = 'datasets/images'\n",
    "open_images_path = os.path.join(root_path,open_images_directory)\n",
    "p = pathlib.Path(open_images_path)\n",
    "\n",
    "labels = [x.name for x in p.iterdir() if x.is_dir()]"
   ]
  },
  {
   "cell_type": "code",
   "execution_count": 34,
   "metadata": {},
   "outputs": [
    {
     "name": "stdout",
     "output_type": "stream",
     "text": [
      "           Label                                               Path\n",
      "3115    cocktail  /home/jupyter/FoodDetector/datasets/images/coc...\n",
      "9200      tomato  /home/jupyter/FoodDetector/datasets/images/tom...\n",
      "23992  pineapple  /home/jupyter/FoodDetector/datasets/images/pin...\n",
      "19549      bread  /home/jupyter/FoodDetector/datasets/images/bre...\n",
      "5393      carrot  /home/jupyter/FoodDetector/datasets/images/car...\n"
     ]
    }
   ],
   "source": [
    "data_labels = []\n",
    "data_paths = []\n",
    "for label in labels:\n",
    "    p_label = pathlib.Path(os.path.join(open_images_path,label))\n",
    "    paths = list(p_label.glob('**/*.jpg'))\n",
    "    for path in paths:\n",
    "        data_labels.append(label)\n",
    "        data_paths.append(path)\n",
    "\n",
    "data = {'Label': data_labels, 'Path': data_paths}\n",
    "data_df = pd.DataFrame(data, columns=['Label','Path'])\n",
    "print(data_df.sample(5))\n"
   ]
  },
  {
   "cell_type": "code",
   "execution_count": 35,
   "metadata": {},
   "outputs": [
    {
     "data": {
      "text/plain": [
       "24055"
      ]
     },
     "execution_count": 35,
     "metadata": {},
     "output_type": "execute_result"
    }
   ],
   "source": [
    "data_df.shape[0]"
   ]
  },
  {
   "cell_type": "code",
   "execution_count": 36,
   "metadata": {},
   "outputs": [
    {
     "data": {
      "text/plain": [
       "46"
      ]
     },
     "execution_count": 36,
     "metadata": {},
     "output_type": "execute_result"
    }
   ],
   "source": [
    "data_df['Label'].nunique()"
   ]
  },
  {
   "cell_type": "code",
   "execution_count": 37,
   "metadata": {},
   "outputs": [
    {
     "data": {
      "text/plain": [
       "beer            3399\n",
       "cocktail        1973\n",
       "cake            1910\n",
       "bread           1708\n",
       "ice cream       1066\n",
       "coffee           930\n",
       "orange           883\n",
       "juice            847\n",
       "tomato           759\n",
       "wine             686\n",
       "strawberry       684\n",
       "candy            682\n",
       "sushi            663\n",
       "banana           589\n",
       "pizza            588\n",
       "lemon            540\n",
       "cookie           532\n",
       "carrot           499\n",
       "mushroom         471\n",
       "cucumber         468\n",
       "hamburger        443\n",
       "apple            393\n",
       "sandwich         335\n",
       "tea              292\n",
       "cheese           284\n",
       "grapefruit       249\n",
       "doughnut         198\n",
       "bagel            155\n",
       "french fries     144\n",
       "watermelon       131\n",
       "turkey           129\n",
       "pineapple        119\n",
       "honeycomb        116\n",
       "mango            115\n",
       "pancake          113\n",
       "taco             111\n",
       "grape            108\n",
       "milk             107\n",
       "peach             99\n",
       "waffle            97\n",
       "burrito           82\n",
       "cream             79\n",
       "cabbage           76\n",
       "coconut           75\n",
       "hot dog           72\n",
       "popcorn           56\n",
       "Name: Label, dtype: int64"
      ]
     },
     "execution_count": 37,
     "metadata": {},
     "output_type": "execute_result"
    }
   ],
   "source": [
    "data_df['Label'].value_counts()"
   ]
  },
  {
   "cell_type": "markdown",
   "metadata": {},
   "source": [
    "# Preprocessing UECFOOD256 dataset"
   ]
  },
  {
   "cell_type": "code",
   "execution_count": 38,
   "metadata": {},
   "outputs": [
    {
     "name": "stdout",
     "output_type": "stream",
     "text": [
      "/home/jupyter/FoodDetector/datasets/UECFOOD256crop\n"
     ]
    }
   ],
   "source": [
    "uecfood256_directory = 'datasets/UECFOOD256crop'\n",
    "uecfood256_path = os.path.join(root_path,uecfood256_directory)\n",
    "print(uecfood256_path)"
   ]
  },
  {
   "cell_type": "code",
   "execution_count": 39,
   "metadata": {},
   "outputs": [],
   "source": [
    "# !unzip -qq datasets/UECFOOD256crop.zip > UECFOOD256crop"
   ]
  },
  {
   "cell_type": "code",
   "execution_count": 40,
   "metadata": {},
   "outputs": [
    {
     "name": "stdout",
     "output_type": "stream",
     "text": [
      "/home/jupyter/FoodDetector/datasets/UECFOOD256crop exist!\n"
     ]
    }
   ],
   "source": [
    "uecfood256_zip_path = os.path.join(root_path,'datasets/UECFOOD256crop.zip')\n",
    "if not os.path.isdir(uecfood256_path):\n",
    "    print(f\"{uecfood256_path} does not exist!\")\n",
    "    !unzip -qq $uecfood256_zip_path -d $uecfood256_path\n",
    "else:\n",
    "    print(f\"{uecfood256_path} exist!\")"
   ]
  },
  {
   "cell_type": "code",
   "execution_count": 41,
   "metadata": {},
   "outputs": [
    {
     "name": "stdout",
     "output_type": "stream",
     "text": [
      "/home/jupyter/FoodDetector/datasets/UECFOOD256crop/UECFOOD256\n"
     ]
    }
   ],
   "source": [
    "root_uecfood256_directory = os.path.join(uecfood256_path,'UECFOOD256')\n",
    "print(root_uecfood256_directory)"
   ]
  },
  {
   "cell_type": "code",
   "execution_count": 42,
   "metadata": {},
   "outputs": [
    {
     "data": {
      "text/plain": [
       "PosixPath('/home/jupyter/FoodDetector/datasets/UECFOOD256crop/UECFOOD256')"
      ]
     },
     "execution_count": 42,
     "metadata": {},
     "output_type": "execute_result"
    }
   ],
   "source": [
    "root_uecfood256_directory_path = pathlib.Path(root_uecfood256_directory)\n",
    "root_uecfood256_directory_path"
   ]
  },
  {
   "cell_type": "code",
   "execution_count": 43,
   "metadata": {},
   "outputs": [
    {
     "data": {
      "text/plain": [
       "'/home/jupyter/FoodDetector/datasets/UECFOOD256/category.txt'"
      ]
     },
     "execution_count": 43,
     "metadata": {},
     "output_type": "execute_result"
    }
   ],
   "source": [
    "category_path_txt = os.path.join(root_path, 'datasets/UECFOOD256/category.txt')\n",
    "category_path_txt"
   ]
  },
  {
   "cell_type": "code",
   "execution_count": 44,
   "metadata": {},
   "outputs": [
    {
     "data": {
      "text/plain": [
       "id      256\n",
       "name    255\n",
       "dtype: int64"
      ]
     },
     "execution_count": 44,
     "metadata": {},
     "output_type": "execute_result"
    }
   ],
   "source": [
    "category_df = pd.read_csv(category_path_txt, sep='\t', header=0, names=['id', 'name'])\n",
    "category_df.nunique()"
   ]
  },
  {
   "cell_type": "code",
   "execution_count": 45,
   "metadata": {},
   "outputs": [
    {
     "data": {
      "application/vnd.jupyter.widget-view+json": {
       "model_id": "6258d88ca20b484a8aaf7b343ce1addd",
       "version_major": 2,
       "version_minor": 0
      },
      "text/plain": [
       "VBox(children=(HBox(children=(IntProgress(value=0, description='0.00%', max=86), Label(value='0 / 86'))), HBox…"
      ]
     },
     "metadata": {},
     "output_type": "display_data"
    }
   ],
   "source": [
    "def get_path(row):\n",
    "    id = str(row[0])\n",
    "    path = os.path.join(root_uecfood256_directory_path, str(id))\n",
    "    p_label = pathlib.Path(path)\n",
    "    paths = list(p_label.glob('**/*.jpg'))\n",
    "    \n",
    "    return paths\n",
    "\n",
    "category_df[\"Path\"] =  category_df.parallel_apply(get_path, axis=1)\n"
   ]
  },
  {
   "cell_type": "code",
   "execution_count": 46,
   "metadata": {},
   "outputs": [
    {
     "data": {
      "text/html": [
       "<div>\n",
       "<style scoped>\n",
       "    .dataframe tbody tr th:only-of-type {\n",
       "        vertical-align: middle;\n",
       "    }\n",
       "\n",
       "    .dataframe tbody tr th {\n",
       "        vertical-align: top;\n",
       "    }\n",
       "\n",
       "    .dataframe thead th {\n",
       "        text-align: right;\n",
       "    }\n",
       "</style>\n",
       "<table border=\"1\" class=\"dataframe\">\n",
       "  <thead>\n",
       "    <tr style=\"text-align: right;\">\n",
       "      <th></th>\n",
       "      <th>id</th>\n",
       "      <th>name</th>\n",
       "      <th>Path</th>\n",
       "    </tr>\n",
       "  </thead>\n",
       "  <tbody>\n",
       "    <tr>\n",
       "      <th>2</th>\n",
       "      <td>3</td>\n",
       "      <td>pilaf</td>\n",
       "      <td>[/home/jupyter/FoodDetector/datasets/UECFOOD25...</td>\n",
       "    </tr>\n",
       "    <tr>\n",
       "      <th>15</th>\n",
       "      <td>16</td>\n",
       "      <td>chip butty</td>\n",
       "      <td>[/home/jupyter/FoodDetector/datasets/UECFOOD25...</td>\n",
       "    </tr>\n",
       "    <tr>\n",
       "      <th>123</th>\n",
       "      <td>124</td>\n",
       "      <td>samul</td>\n",
       "      <td>[/home/jupyter/FoodDetector/datasets/UECFOOD25...</td>\n",
       "    </tr>\n",
       "    <tr>\n",
       "      <th>33</th>\n",
       "      <td>34</td>\n",
       "      <td>sauteed spinach</td>\n",
       "      <td>[/home/jupyter/FoodDetector/datasets/UECFOOD25...</td>\n",
       "    </tr>\n",
       "    <tr>\n",
       "      <th>30</th>\n",
       "      <td>31</td>\n",
       "      <td>sauteed vegetables</td>\n",
       "      <td>[/home/jupyter/FoodDetector/datasets/UECFOOD25...</td>\n",
       "    </tr>\n",
       "  </tbody>\n",
       "</table>\n",
       "</div>"
      ],
      "text/plain": [
       "      id                name  \\\n",
       "2      3               pilaf   \n",
       "15    16          chip butty   \n",
       "123  124               samul   \n",
       "33    34     sauteed spinach   \n",
       "30    31  sauteed vegetables   \n",
       "\n",
       "                                                  Path  \n",
       "2    [/home/jupyter/FoodDetector/datasets/UECFOOD25...  \n",
       "15   [/home/jupyter/FoodDetector/datasets/UECFOOD25...  \n",
       "123  [/home/jupyter/FoodDetector/datasets/UECFOOD25...  \n",
       "33   [/home/jupyter/FoodDetector/datasets/UECFOOD25...  \n",
       "30   [/home/jupyter/FoodDetector/datasets/UECFOOD25...  "
      ]
     },
     "execution_count": 46,
     "metadata": {},
     "output_type": "execute_result"
    }
   ],
   "source": [
    "category_df.sample(5)"
   ]
  },
  {
   "cell_type": "code",
   "execution_count": 47,
   "metadata": {},
   "outputs": [
    {
     "data": {
      "text/plain": [
       "omelet                    2\n",
       "bean curd family style    1\n",
       "waffle                    1\n",
       "lemon fig jelly           1\n",
       "bagel                     1\n",
       "                         ..\n",
       "malasada                  1\n",
       "natto                     1\n",
       "coconut milk soup         1\n",
       "rice gratin               1\n",
       "teriyaki grilled fish     1\n",
       "Name: name, Length: 255, dtype: int64"
      ]
     },
     "execution_count": 47,
     "metadata": {},
     "output_type": "execute_result"
    }
   ],
   "source": [
    "category_df['name'].value_counts()"
   ]
  },
  {
   "cell_type": "code",
   "execution_count": 48,
   "metadata": {},
   "outputs": [
    {
     "data": {
      "text/html": [
       "<div>\n",
       "<style scoped>\n",
       "    .dataframe tbody tr th:only-of-type {\n",
       "        vertical-align: middle;\n",
       "    }\n",
       "\n",
       "    .dataframe tbody tr th {\n",
       "        vertical-align: top;\n",
       "    }\n",
       "\n",
       "    .dataframe thead th {\n",
       "        text-align: right;\n",
       "    }\n",
       "</style>\n",
       "<table border=\"1\" class=\"dataframe\">\n",
       "  <thead>\n",
       "    <tr style=\"text-align: right;\">\n",
       "      <th></th>\n",
       "      <th>id</th>\n",
       "      <th>name</th>\n",
       "      <th>Path</th>\n",
       "    </tr>\n",
       "  </thead>\n",
       "  <tbody>\n",
       "    <tr>\n",
       "      <th>0</th>\n",
       "      <td>1</td>\n",
       "      <td>rice</td>\n",
       "      <td>/home/jupyter/FoodDetector/datasets/UECFOOD256...</td>\n",
       "    </tr>\n",
       "    <tr>\n",
       "      <th>1</th>\n",
       "      <td>1</td>\n",
       "      <td>rice</td>\n",
       "      <td>/home/jupyter/FoodDetector/datasets/UECFOOD256...</td>\n",
       "    </tr>\n",
       "    <tr>\n",
       "      <th>2</th>\n",
       "      <td>1</td>\n",
       "      <td>rice</td>\n",
       "      <td>/home/jupyter/FoodDetector/datasets/UECFOOD256...</td>\n",
       "    </tr>\n",
       "    <tr>\n",
       "      <th>3</th>\n",
       "      <td>1</td>\n",
       "      <td>rice</td>\n",
       "      <td>/home/jupyter/FoodDetector/datasets/UECFOOD256...</td>\n",
       "    </tr>\n",
       "    <tr>\n",
       "      <th>4</th>\n",
       "      <td>1</td>\n",
       "      <td>rice</td>\n",
       "      <td>/home/jupyter/FoodDetector/datasets/UECFOOD256...</td>\n",
       "    </tr>\n",
       "    <tr>\n",
       "      <th>5</th>\n",
       "      <td>1</td>\n",
       "      <td>rice</td>\n",
       "      <td>/home/jupyter/FoodDetector/datasets/UECFOOD256...</td>\n",
       "    </tr>\n",
       "    <tr>\n",
       "      <th>6</th>\n",
       "      <td>1</td>\n",
       "      <td>rice</td>\n",
       "      <td>/home/jupyter/FoodDetector/datasets/UECFOOD256...</td>\n",
       "    </tr>\n",
       "    <tr>\n",
       "      <th>7</th>\n",
       "      <td>1</td>\n",
       "      <td>rice</td>\n",
       "      <td>/home/jupyter/FoodDetector/datasets/UECFOOD256...</td>\n",
       "    </tr>\n",
       "    <tr>\n",
       "      <th>8</th>\n",
       "      <td>1</td>\n",
       "      <td>rice</td>\n",
       "      <td>/home/jupyter/FoodDetector/datasets/UECFOOD256...</td>\n",
       "    </tr>\n",
       "    <tr>\n",
       "      <th>9</th>\n",
       "      <td>1</td>\n",
       "      <td>rice</td>\n",
       "      <td>/home/jupyter/FoodDetector/datasets/UECFOOD256...</td>\n",
       "    </tr>\n",
       "  </tbody>\n",
       "</table>\n",
       "</div>"
      ],
      "text/plain": [
       "   id  name                                               Path\n",
       "0   1  rice  /home/jupyter/FoodDetector/datasets/UECFOOD256...\n",
       "1   1  rice  /home/jupyter/FoodDetector/datasets/UECFOOD256...\n",
       "2   1  rice  /home/jupyter/FoodDetector/datasets/UECFOOD256...\n",
       "3   1  rice  /home/jupyter/FoodDetector/datasets/UECFOOD256...\n",
       "4   1  rice  /home/jupyter/FoodDetector/datasets/UECFOOD256...\n",
       "5   1  rice  /home/jupyter/FoodDetector/datasets/UECFOOD256...\n",
       "6   1  rice  /home/jupyter/FoodDetector/datasets/UECFOOD256...\n",
       "7   1  rice  /home/jupyter/FoodDetector/datasets/UECFOOD256...\n",
       "8   1  rice  /home/jupyter/FoodDetector/datasets/UECFOOD256...\n",
       "9   1  rice  /home/jupyter/FoodDetector/datasets/UECFOOD256..."
      ]
     },
     "execution_count": 48,
     "metadata": {},
     "output_type": "execute_result"
    }
   ],
   "source": [
    "def unnest(df, col, reset_index=False):\n",
    "    import pandas as pd\n",
    "    col_flat = pd.DataFrame([[i, x] \n",
    "                       for i, y in df[col].apply(list).iteritems() \n",
    "                           for x in y], columns=['I', col])\n",
    "    col_flat = col_flat.set_index('I')\n",
    "    df = df.drop(col, 1)\n",
    "    df = df.merge(col_flat, left_index=True, right_index=True)\n",
    "    if reset_index:\n",
    "        df = df.reset_index(drop=True)\n",
    "    return df\n",
    "\n",
    "category_df = unnest(category_df,'Path',True)\n",
    "category_df.head(10)"
   ]
  },
  {
   "cell_type": "code",
   "execution_count": 49,
   "metadata": {},
   "outputs": [
    {
     "data": {
      "text/plain": [
       "31402"
      ]
     },
     "execution_count": 49,
     "metadata": {},
     "output_type": "execute_result"
    }
   ],
   "source": [
    "category_df.shape[0]"
   ]
  },
  {
   "cell_type": "code",
   "execution_count": 50,
   "metadata": {},
   "outputs": [],
   "source": [
    "category_df.rename(columns={'name':'Label'}, inplace=True)\n",
    "category_df.drop(columns=['id'], inplace=True)\n"
   ]
  },
  {
   "cell_type": "code",
   "execution_count": 51,
   "metadata": {},
   "outputs": [
    {
     "data": {
      "text/html": [
       "<div>\n",
       "<style scoped>\n",
       "    .dataframe tbody tr th:only-of-type {\n",
       "        vertical-align: middle;\n",
       "    }\n",
       "\n",
       "    .dataframe tbody tr th {\n",
       "        vertical-align: top;\n",
       "    }\n",
       "\n",
       "    .dataframe thead th {\n",
       "        text-align: right;\n",
       "    }\n",
       "</style>\n",
       "<table border=\"1\" class=\"dataframe\">\n",
       "  <thead>\n",
       "    <tr style=\"text-align: right;\">\n",
       "      <th></th>\n",
       "      <th>Label</th>\n",
       "      <th>Path</th>\n",
       "    </tr>\n",
       "  </thead>\n",
       "  <tbody>\n",
       "    <tr>\n",
       "      <th>31397</th>\n",
       "      <td>hot &amp; sour soup</td>\n",
       "      <td>/home/jupyter/FoodDetector/datasets/UECFOOD256...</td>\n",
       "    </tr>\n",
       "    <tr>\n",
       "      <th>31398</th>\n",
       "      <td>hot &amp; sour soup</td>\n",
       "      <td>/home/jupyter/FoodDetector/datasets/UECFOOD256...</td>\n",
       "    </tr>\n",
       "    <tr>\n",
       "      <th>31399</th>\n",
       "      <td>hot &amp; sour soup</td>\n",
       "      <td>/home/jupyter/FoodDetector/datasets/UECFOOD256...</td>\n",
       "    </tr>\n",
       "    <tr>\n",
       "      <th>31400</th>\n",
       "      <td>hot &amp; sour soup</td>\n",
       "      <td>/home/jupyter/FoodDetector/datasets/UECFOOD256...</td>\n",
       "    </tr>\n",
       "    <tr>\n",
       "      <th>31401</th>\n",
       "      <td>hot &amp; sour soup</td>\n",
       "      <td>/home/jupyter/FoodDetector/datasets/UECFOOD256...</td>\n",
       "    </tr>\n",
       "  </tbody>\n",
       "</table>\n",
       "</div>"
      ],
      "text/plain": [
       "                 Label                                               Path\n",
       "31397  hot & sour soup  /home/jupyter/FoodDetector/datasets/UECFOOD256...\n",
       "31398  hot & sour soup  /home/jupyter/FoodDetector/datasets/UECFOOD256...\n",
       "31399  hot & sour soup  /home/jupyter/FoodDetector/datasets/UECFOOD256...\n",
       "31400  hot & sour soup  /home/jupyter/FoodDetector/datasets/UECFOOD256...\n",
       "31401  hot & sour soup  /home/jupyter/FoodDetector/datasets/UECFOOD256..."
      ]
     },
     "execution_count": 51,
     "metadata": {},
     "output_type": "execute_result"
    }
   ],
   "source": [
    "category_df.tail(5)"
   ]
  },
  {
   "cell_type": "code",
   "execution_count": 52,
   "metadata": {},
   "outputs": [
    {
     "data": {
      "text/plain": [
       "miso soup          728\n",
       "rice               627\n",
       "ramen noodle       353\n",
       "green salad        342\n",
       "beef curry         246\n",
       "                  ... \n",
       "parfait            100\n",
       "chop suey          100\n",
       "green curry        100\n",
       "chicken rice       100\n",
       "Pork with lemon    100\n",
       "Name: Label, Length: 255, dtype: int64"
      ]
     },
     "execution_count": 52,
     "metadata": {},
     "output_type": "execute_result"
    }
   ],
   "source": [
    "category_df['Label'].value_counts()"
   ]
  },
  {
   "cell_type": "code",
   "execution_count": 54,
   "metadata": {},
   "outputs": [],
   "source": [
    "category_df.to_csv(os.path.join(root_path,'FoodClassification/UECFOOD256crop_food_labels_paths.csv'), index=False)"
   ]
  },
  {
   "cell_type": "code",
   "execution_count": 55,
   "metadata": {},
   "outputs": [
    {
     "data": {
      "text/plain": [
       "Label      291\n",
       "Path     55457\n",
       "dtype: int64"
      ]
     },
     "execution_count": 55,
     "metadata": {},
     "output_type": "execute_result"
    }
   ],
   "source": [
    "data_df = pd.concat([data_df,category_df],ignore_index = True)\n",
    "# data_df = category_df\n",
    "data_df.nunique()"
   ]
  },
  {
   "cell_type": "code",
   "execution_count": 56,
   "metadata": {},
   "outputs": [
    {
     "name": "stdout",
     "output_type": "stream",
     "text": [
      "<class 'pandas.core.frame.DataFrame'>\n",
      "RangeIndex: 55457 entries, 0 to 55456\n",
      "Data columns (total 2 columns):\n",
      " #   Column  Non-Null Count  Dtype \n",
      "---  ------  --------------  ----- \n",
      " 0   Label   55457 non-null  object\n",
      " 1   Path    55457 non-null  object\n",
      "dtypes: object(2)\n",
      "memory usage: 866.6+ KB\n"
     ]
    }
   ],
   "source": [
    "data_df.info()"
   ]
  },
  {
   "cell_type": "markdown",
   "metadata": {},
   "source": [
    "# Preprocessing food-101 "
   ]
  },
  {
   "cell_type": "code",
   "execution_count": 15,
   "metadata": {},
   "outputs": [
    {
     "name": "stdout",
     "output_type": "stream",
     "text": [
      "/home/jupyter/FoodDetector\n"
     ]
    }
   ],
   "source": [
    "print(os.getcwd())"
   ]
  },
  {
   "cell_type": "code",
   "execution_count": 16,
   "metadata": {},
   "outputs": [
    {
     "name": "stdout",
     "output_type": "stream",
     "text": [
      "/home/jupyter/FoodDetector/datasets/food-101\n",
      "/home/jupyter/FoodDetector/datasets/food-101 exist!\n"
     ]
    }
   ],
   "source": [
    "food101_directory = 'datasets/food-101'\n",
    "food101_path = os.path.join(root_path,food101_directory)\n",
    "print(food101_path)\n",
    "if not os.path.isdir(food101_path):\n",
    "    print(f\"{food101_path} does not exist!\")\n",
    "    !tar -xf food-101.tar.gz\n",
    "else:\n",
    "    print(f\"{food101_path} exist!\")"
   ]
  },
  {
   "cell_type": "code",
   "execution_count": 17,
   "metadata": {},
   "outputs": [
    {
     "name": "stdout",
     "output_type": "stream",
     "text": [
      "/home/jupyter/FoodDetector/datasets/food-101/meta/classes.txt\n",
      "/home/jupyter/FoodDetector/datasets/food-101/meta/labels.txt\n",
      "/home/jupyter/FoodDetector/datasets/food-101/images\n"
     ]
    }
   ],
   "source": [
    "food101_meta_path = os.path.join(food101_path,'meta')\n",
    "food101_classes_path = os.path.join(food101_meta_path,'classes.txt')\n",
    "food101_labels_path = os.path.join(food101_meta_path,'labels.txt')\n",
    "food101_images_path = os.path.join(food101_path,'images')\n",
    "print(food101_classes_path)\n",
    "print(food101_labels_path)\n",
    "print(food101_images_path)\n",
    "\n"
   ]
  },
  {
   "cell_type": "code",
   "execution_count": 30,
   "metadata": {},
   "outputs": [
    {
     "name": "stdout",
     "output_type": "stream",
     "text": [
      "100\n",
      "100\n"
     ]
    },
    {
     "data": {
      "text/html": [
       "<div>\n",
       "<style scoped>\n",
       "    .dataframe tbody tr th:only-of-type {\n",
       "        vertical-align: middle;\n",
       "    }\n",
       "\n",
       "    .dataframe tbody tr th {\n",
       "        vertical-align: top;\n",
       "    }\n",
       "\n",
       "    .dataframe thead th {\n",
       "        text-align: right;\n",
       "    }\n",
       "</style>\n",
       "<table border=\"1\" class=\"dataframe\">\n",
       "  <thead>\n",
       "    <tr style=\"text-align: right;\">\n",
       "      <th></th>\n",
       "      <th>Label</th>\n",
       "      <th>Classes</th>\n",
       "    </tr>\n",
       "  </thead>\n",
       "  <tbody>\n",
       "    <tr>\n",
       "      <th>92</th>\n",
       "      <td>Steak</td>\n",
       "      <td>steak</td>\n",
       "    </tr>\n",
       "    <tr>\n",
       "      <th>26</th>\n",
       "      <td>Creme brulee</td>\n",
       "      <td>creme_brulee</td>\n",
       "    </tr>\n",
       "    <tr>\n",
       "      <th>5</th>\n",
       "      <td>Beignets</td>\n",
       "      <td>beignets</td>\n",
       "    </tr>\n",
       "    <tr>\n",
       "      <th>50</th>\n",
       "      <td>Guacamole</td>\n",
       "      <td>guacamole</td>\n",
       "    </tr>\n",
       "    <tr>\n",
       "      <th>31</th>\n",
       "      <td>Dumplings</td>\n",
       "      <td>dumplings</td>\n",
       "    </tr>\n",
       "  </tbody>\n",
       "</table>\n",
       "</div>"
      ],
      "text/plain": [
       "           Label       Classes\n",
       "92         Steak         steak\n",
       "26  Creme brulee  creme_brulee\n",
       "5       Beignets      beignets\n",
       "50     Guacamole     guacamole\n",
       "31     Dumplings     dumplings"
      ]
     },
     "execution_count": 30,
     "metadata": {},
     "output_type": "execute_result"
    }
   ],
   "source": [
    "labels_df = pd.read_csv(food101_labels_path,header=0,names=['Label'])\n",
    "print(labels_df.shape[0])\n",
    "classes_df = pd.read_csv(food101_classes_path,header=0,names=['Classes'])\n",
    "print(classes_df.shape[0])\n",
    "\n",
    "food101_df = pd.concat([labels_df,classes_df],axis=1)\n",
    "food101_df.sample(5)"
   ]
  },
  {
   "cell_type": "code",
   "execution_count": 31,
   "metadata": {},
   "outputs": [
    {
     "data": {
      "application/vnd.jupyter.widget-view+json": {
       "model_id": "f4ca3f54e4094559a7cc759ed82bb66d",
       "version_major": 2,
       "version_minor": 0
      },
      "text/plain": [
       "VBox(children=(HBox(children=(IntProgress(value=0, description='0.00%', max=34), Label(value='0 / 34'))), HBox…"
      ]
     },
     "metadata": {},
     "output_type": "display_data"
    }
   ],
   "source": [
    "def get_path(row):\n",
    "    classes = str(row[1])\n",
    "    path = os.path.join(food101_images_path, classes)\n",
    "    p_label = pathlib.Path(path)\n",
    "    paths = list(p_label.glob('**/*.jpg'))\n",
    "    return paths\n",
    "\n",
    "food101_df[\"Classes\"] =  food101_df.parallel_apply(get_path, axis=1)\n",
    "food101_df = unnest(food101_df,\"Classes\",True)"
   ]
  },
  {
   "cell_type": "code",
   "execution_count": 32,
   "metadata": {},
   "outputs": [
    {
     "data": {
      "text/html": [
       "<div>\n",
       "<style scoped>\n",
       "    .dataframe tbody tr th:only-of-type {\n",
       "        vertical-align: middle;\n",
       "    }\n",
       "\n",
       "    .dataframe tbody tr th {\n",
       "        vertical-align: top;\n",
       "    }\n",
       "\n",
       "    .dataframe thead th {\n",
       "        text-align: right;\n",
       "    }\n",
       "</style>\n",
       "<table border=\"1\" class=\"dataframe\">\n",
       "  <thead>\n",
       "    <tr style=\"text-align: right;\">\n",
       "      <th></th>\n",
       "      <th>Label</th>\n",
       "      <th>Path</th>\n",
       "    </tr>\n",
       "  </thead>\n",
       "  <tbody>\n",
       "    <tr>\n",
       "      <th>99995</th>\n",
       "      <td>Waffles</td>\n",
       "      <td>/home/jupyter/FoodDetector/datasets/food-101/i...</td>\n",
       "    </tr>\n",
       "    <tr>\n",
       "      <th>99996</th>\n",
       "      <td>Waffles</td>\n",
       "      <td>/home/jupyter/FoodDetector/datasets/food-101/i...</td>\n",
       "    </tr>\n",
       "    <tr>\n",
       "      <th>99997</th>\n",
       "      <td>Waffles</td>\n",
       "      <td>/home/jupyter/FoodDetector/datasets/food-101/i...</td>\n",
       "    </tr>\n",
       "    <tr>\n",
       "      <th>99998</th>\n",
       "      <td>Waffles</td>\n",
       "      <td>/home/jupyter/FoodDetector/datasets/food-101/i...</td>\n",
       "    </tr>\n",
       "    <tr>\n",
       "      <th>99999</th>\n",
       "      <td>Waffles</td>\n",
       "      <td>/home/jupyter/FoodDetector/datasets/food-101/i...</td>\n",
       "    </tr>\n",
       "  </tbody>\n",
       "</table>\n",
       "</div>"
      ],
      "text/plain": [
       "         Label                                               Path\n",
       "99995  Waffles  /home/jupyter/FoodDetector/datasets/food-101/i...\n",
       "99996  Waffles  /home/jupyter/FoodDetector/datasets/food-101/i...\n",
       "99997  Waffles  /home/jupyter/FoodDetector/datasets/food-101/i...\n",
       "99998  Waffles  /home/jupyter/FoodDetector/datasets/food-101/i...\n",
       "99999  Waffles  /home/jupyter/FoodDetector/datasets/food-101/i..."
      ]
     },
     "execution_count": 32,
     "metadata": {},
     "output_type": "execute_result"
    }
   ],
   "source": [
    "food101_df.rename(columns={'Classes':'Path'}, inplace=True)\n",
    "food101_df.tail(5)"
   ]
  },
  {
   "cell_type": "code",
   "execution_count": 33,
   "metadata": {},
   "outputs": [
    {
     "name": "stdout",
     "output_type": "stream",
     "text": [
      "100000\n",
      "31395\n",
      "131395\n"
     ]
    }
   ],
   "source": [
    "print(food101_df.shape[0])\n",
    "print(data_df.shape[0])\n",
    "data_df = pd.concat([data_df,food101_df],ignore_index=True)\n",
    "print(data_df.shape[0])"
   ]
  },
  {
   "cell_type": "code",
   "execution_count": 34,
   "metadata": {},
   "outputs": [
    {
     "data": {
      "text/html": [
       "<div>\n",
       "<style scoped>\n",
       "    .dataframe tbody tr th:only-of-type {\n",
       "        vertical-align: middle;\n",
       "    }\n",
       "\n",
       "    .dataframe tbody tr th {\n",
       "        vertical-align: top;\n",
       "    }\n",
       "\n",
       "    .dataframe thead th {\n",
       "        text-align: right;\n",
       "    }\n",
       "</style>\n",
       "<table border=\"1\" class=\"dataframe\">\n",
       "  <thead>\n",
       "    <tr style=\"text-align: right;\">\n",
       "      <th></th>\n",
       "      <th>Label</th>\n",
       "      <th>Path</th>\n",
       "    </tr>\n",
       "  </thead>\n",
       "  <tbody>\n",
       "    <tr>\n",
       "      <th>131390</th>\n",
       "      <td>Waffles</td>\n",
       "      <td>/home/jupyter/FoodDetector/datasets/food-101/i...</td>\n",
       "    </tr>\n",
       "    <tr>\n",
       "      <th>131391</th>\n",
       "      <td>Waffles</td>\n",
       "      <td>/home/jupyter/FoodDetector/datasets/food-101/i...</td>\n",
       "    </tr>\n",
       "    <tr>\n",
       "      <th>131392</th>\n",
       "      <td>Waffles</td>\n",
       "      <td>/home/jupyter/FoodDetector/datasets/food-101/i...</td>\n",
       "    </tr>\n",
       "    <tr>\n",
       "      <th>131393</th>\n",
       "      <td>Waffles</td>\n",
       "      <td>/home/jupyter/FoodDetector/datasets/food-101/i...</td>\n",
       "    </tr>\n",
       "    <tr>\n",
       "      <th>131394</th>\n",
       "      <td>Waffles</td>\n",
       "      <td>/home/jupyter/FoodDetector/datasets/food-101/i...</td>\n",
       "    </tr>\n",
       "  </tbody>\n",
       "</table>\n",
       "</div>"
      ],
      "text/plain": [
       "          Label                                               Path\n",
       "131390  Waffles  /home/jupyter/FoodDetector/datasets/food-101/i...\n",
       "131391  Waffles  /home/jupyter/FoodDetector/datasets/food-101/i...\n",
       "131392  Waffles  /home/jupyter/FoodDetector/datasets/food-101/i...\n",
       "131393  Waffles  /home/jupyter/FoodDetector/datasets/food-101/i...\n",
       "131394  Waffles  /home/jupyter/FoodDetector/datasets/food-101/i..."
      ]
     },
     "execution_count": 34,
     "metadata": {},
     "output_type": "execute_result"
    }
   ],
   "source": [
    "data_df.tail(5)"
   ]
  },
  {
   "cell_type": "code",
   "execution_count": 57,
   "metadata": {},
   "outputs": [],
   "source": [
    "data_df.to_csv(os.path.join(root_path,'FoodClassification/food_labels_paths.csv'), index=False)"
   ]
  },
  {
   "cell_type": "code",
   "execution_count": null,
   "metadata": {},
   "outputs": [],
   "source": []
  }
 ],
 "metadata": {
  "environment": {
   "name": "tf2-gpu.2-1.m46",
   "type": "gcloud",
   "uri": "gcr.io/deeplearning-platform-release/tf2-gpu.2-1:m46"
  },
  "kernelspec": {
   "display_name": "Python 3",
   "language": "python",
   "name": "python3"
  },
  "language_info": {
   "codemirror_mode": {
    "name": "ipython",
    "version": 3
   },
   "file_extension": ".py",
   "mimetype": "text/x-python",
   "name": "python",
   "nbconvert_exporter": "python",
   "pygments_lexer": "ipython3",
   "version": "3.7.6"
  }
 },
 "nbformat": 4,
 "nbformat_minor": 4
}
